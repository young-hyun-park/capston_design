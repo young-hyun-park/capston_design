{
  "cells": [
    {
      "cell_type": "markdown",
      "metadata": {
        "id": "view-in-github",
        "colab_type": "text"
      },
      "source": [
        "<a href=\"https://colab.research.google.com/github/young-hyun-park/capston_design/blob/main/inceptionv3_multiclassclassfication.ipynb\" target=\"_parent\"><img src=\"https://colab.research.google.com/assets/colab-badge.svg\" alt=\"Open In Colab\"/></a>"
      ]
    },
    {
      "cell_type": "markdown",
      "metadata": {
        "id": "bBDtfS9yrW5a"
      },
      "source": [
        "## Import"
      ]
    },
    {
      "cell_type": "code",
      "execution_count": null,
      "metadata": {
        "id": "goD9iEktoLXJ"
      },
      "outputs": [],
      "source": [
        "import torch\n",
        "import numpy as np\n",
        "from glob import glob\n",
        "import pandas as pd\n",
        "import matplotlib.pyplot as plt\n",
        "from torch.utils.data import Dataset, DataLoader\n",
        "import torch.nn as nn\n",
        "import torch.optim as optim\n",
        "import torch.nn.functional as F\n",
        "from torchvision import datasets, transforms\n",
        "from torchsummary import summary\n",
        "from PIL import Image\n",
        "import os\n",
        "import re\n",
        "import nibabel as nib"
      ]
    },
    {
      "cell_type": "markdown",
      "metadata": {
        "id": "r6wKaDSCip-E"
      },
      "source": [
        "## Data Load"
      ]
    },
    {
      "cell_type": "code",
      "execution_count": null,
      "metadata": {
        "id": "ZZT94Zzx-ybX"
      },
      "outputs": [],
      "source": [
        "import zipfile\n",
        "zip_file = zipfile.ZipFile('/content/drive/Shareddrives/캡스톤 디자인1/multi_class_clahe_resize_224_.zip')\n",
        "zip_file.extractall('/content/datasets')\n",
        "zip_file.close()"
      ]
    },
    {
      "cell_type": "code",
      "execution_count": null,
      "metadata": {
        "id": "q9lawTI5-z8l"
      },
      "outputs": [],
      "source": [
        "PATH = '/content/datasets/multi_class_clahe_resize_224_/'\n",
        "from glob import glob\n",
        "file_data = glob(PATH+'*')"
      ]
    },
    {
      "cell_type": "code",
      "execution_count": null,
      "metadata": {
        "id": "n_uXhfOA0l3D"
      },
      "outputs": [],
      "source": [
        "image_path =list()\n",
        "for path in file_data:\n",
        "  infile_image_path = glob(path+'/*.png')\n",
        "  image_path+=infile_image_path\n",
        "image_path = sorted(image_path)"
      ]
    },
    {
      "cell_type": "code",
      "execution_count": null,
      "metadata": {
        "colab": {
          "base_uri": "https://localhost:8080/"
        },
        "id": "uAQ9b1k300wj",
        "outputId": "5921a06d-c6c6-45b3-b17a-39e688883256"
      },
      "outputs": [
        {
          "output_type": "execute_result",
          "data": {
            "text/plain": [
              "55870"
            ]
          },
          "metadata": {},
          "execution_count": 5
        }
      ],
      "source": [
        "len(image_path)"
      ]
    },
    {
      "cell_type": "markdown",
      "metadata": {
        "id": "7MGDc7JXko4k"
      },
      "source": [
        "## Data Load"
      ]
    },
    {
      "cell_type": "code",
      "execution_count": null,
      "metadata": {
        "id": "jkWDvp5eMhpH"
      },
      "outputs": [],
      "source": [
        "import pandas as pd\n",
        "df= pd.read_csv('/content/datasets/processed_data_entry.csv')"
      ]
    },
    {
      "cell_type": "code",
      "execution_count": null,
      "metadata": {
        "colab": {
          "base_uri": "https://localhost:8080/",
          "height": 423
        },
        "id": "7wTKYYiw0_Z4",
        "outputId": "ba0d2e82-64fa-423d-fc22-f84c584773f2"
      },
      "outputs": [
        {
          "output_type": "execute_result",
          "data": {
            "text/plain": [
              "            Image Index          Finding Labels  Follow-up #  Patient ID  \\\n",
              "0      00000001_000.png            Cardiomegaly            0           1   \n",
              "1      00000001_001.png  Cardiomegaly,Emphysema            1           1   \n",
              "2      00000001_002.png   Cardiomegaly,Effusion            2           1   \n",
              "3      00000002_000.png              No Finding            0           2   \n",
              "4      00000003_001.png                  Hernia            0           3   \n",
              "...                 ...                     ...          ...         ...   \n",
              "76661  00030801_001.png          Mass,Pneumonia            1       30801   \n",
              "76662  00030802_000.png              No Finding            0       30802   \n",
              "76663  00030803_000.png              No Finding            0       30803   \n",
              "76664  00030804_000.png              No Finding            0       30804   \n",
              "76665  00030805_000.png              No Finding            0       30805   \n",
              "\n",
              "       Patient Age Patient Gender View Position  OriginalImage[Width  Height]  \\\n",
              "0               57              M            PA                 2682     2749   \n",
              "1               58              M            PA                 2894     2729   \n",
              "2               58              M            PA                 2500     2048   \n",
              "3               80              M            PA                 2500     2048   \n",
              "4               74              F            PA                 2500     2048   \n",
              "...            ...            ...           ...                  ...      ...   \n",
              "76661           38              M            PA                 2048     2500   \n",
              "76662           28              M            PA                 2048     2500   \n",
              "76663           42              F            PA                 2048     2500   \n",
              "76664           29              F            PA                 2048     2500   \n",
              "76665           26              M            PA                 2048     2500   \n",
              "\n",
              "       OriginalImagePixelSpacing[x     y]  \n",
              "0                            0.143  0.143  \n",
              "1                            0.143  0.143  \n",
              "2                            0.168  0.168  \n",
              "3                            0.171  0.171  \n",
              "4                            0.168  0.168  \n",
              "...                            ...    ...  \n",
              "76661                        0.168  0.168  \n",
              "76662                        0.168  0.168  \n",
              "76663                        0.168  0.168  \n",
              "76664                        0.168  0.168  \n",
              "76665                        0.171  0.171  \n",
              "\n",
              "[76666 rows x 11 columns]"
            ],
            "text/html": [
              "\n",
              "  <div id=\"df-49b841df-8b5f-4d9d-bc15-e58ee837fc9f\">\n",
              "    <div class=\"colab-df-container\">\n",
              "      <div>\n",
              "<style scoped>\n",
              "    .dataframe tbody tr th:only-of-type {\n",
              "        vertical-align: middle;\n",
              "    }\n",
              "\n",
              "    .dataframe tbody tr th {\n",
              "        vertical-align: top;\n",
              "    }\n",
              "\n",
              "    .dataframe thead th {\n",
              "        text-align: right;\n",
              "    }\n",
              "</style>\n",
              "<table border=\"1\" class=\"dataframe\">\n",
              "  <thead>\n",
              "    <tr style=\"text-align: right;\">\n",
              "      <th></th>\n",
              "      <th>Image Index</th>\n",
              "      <th>Finding Labels</th>\n",
              "      <th>Follow-up #</th>\n",
              "      <th>Patient ID</th>\n",
              "      <th>Patient Age</th>\n",
              "      <th>Patient Gender</th>\n",
              "      <th>View Position</th>\n",
              "      <th>OriginalImage[Width</th>\n",
              "      <th>Height]</th>\n",
              "      <th>OriginalImagePixelSpacing[x</th>\n",
              "      <th>y]</th>\n",
              "    </tr>\n",
              "  </thead>\n",
              "  <tbody>\n",
              "    <tr>\n",
              "      <th>0</th>\n",
              "      <td>00000001_000.png</td>\n",
              "      <td>Cardiomegaly</td>\n",
              "      <td>0</td>\n",
              "      <td>1</td>\n",
              "      <td>57</td>\n",
              "      <td>M</td>\n",
              "      <td>PA</td>\n",
              "      <td>2682</td>\n",
              "      <td>2749</td>\n",
              "      <td>0.143</td>\n",
              "      <td>0.143</td>\n",
              "    </tr>\n",
              "    <tr>\n",
              "      <th>1</th>\n",
              "      <td>00000001_001.png</td>\n",
              "      <td>Cardiomegaly,Emphysema</td>\n",
              "      <td>1</td>\n",
              "      <td>1</td>\n",
              "      <td>58</td>\n",
              "      <td>M</td>\n",
              "      <td>PA</td>\n",
              "      <td>2894</td>\n",
              "      <td>2729</td>\n",
              "      <td>0.143</td>\n",
              "      <td>0.143</td>\n",
              "    </tr>\n",
              "    <tr>\n",
              "      <th>2</th>\n",
              "      <td>00000001_002.png</td>\n",
              "      <td>Cardiomegaly,Effusion</td>\n",
              "      <td>2</td>\n",
              "      <td>1</td>\n",
              "      <td>58</td>\n",
              "      <td>M</td>\n",
              "      <td>PA</td>\n",
              "      <td>2500</td>\n",
              "      <td>2048</td>\n",
              "      <td>0.168</td>\n",
              "      <td>0.168</td>\n",
              "    </tr>\n",
              "    <tr>\n",
              "      <th>3</th>\n",
              "      <td>00000002_000.png</td>\n",
              "      <td>No Finding</td>\n",
              "      <td>0</td>\n",
              "      <td>2</td>\n",
              "      <td>80</td>\n",
              "      <td>M</td>\n",
              "      <td>PA</td>\n",
              "      <td>2500</td>\n",
              "      <td>2048</td>\n",
              "      <td>0.171</td>\n",
              "      <td>0.171</td>\n",
              "    </tr>\n",
              "    <tr>\n",
              "      <th>4</th>\n",
              "      <td>00000003_001.png</td>\n",
              "      <td>Hernia</td>\n",
              "      <td>0</td>\n",
              "      <td>3</td>\n",
              "      <td>74</td>\n",
              "      <td>F</td>\n",
              "      <td>PA</td>\n",
              "      <td>2500</td>\n",
              "      <td>2048</td>\n",
              "      <td>0.168</td>\n",
              "      <td>0.168</td>\n",
              "    </tr>\n",
              "    <tr>\n",
              "      <th>...</th>\n",
              "      <td>...</td>\n",
              "      <td>...</td>\n",
              "      <td>...</td>\n",
              "      <td>...</td>\n",
              "      <td>...</td>\n",
              "      <td>...</td>\n",
              "      <td>...</td>\n",
              "      <td>...</td>\n",
              "      <td>...</td>\n",
              "      <td>...</td>\n",
              "      <td>...</td>\n",
              "    </tr>\n",
              "    <tr>\n",
              "      <th>76661</th>\n",
              "      <td>00030801_001.png</td>\n",
              "      <td>Mass,Pneumonia</td>\n",
              "      <td>1</td>\n",
              "      <td>30801</td>\n",
              "      <td>38</td>\n",
              "      <td>M</td>\n",
              "      <td>PA</td>\n",
              "      <td>2048</td>\n",
              "      <td>2500</td>\n",
              "      <td>0.168</td>\n",
              "      <td>0.168</td>\n",
              "    </tr>\n",
              "    <tr>\n",
              "      <th>76662</th>\n",
              "      <td>00030802_000.png</td>\n",
              "      <td>No Finding</td>\n",
              "      <td>0</td>\n",
              "      <td>30802</td>\n",
              "      <td>28</td>\n",
              "      <td>M</td>\n",
              "      <td>PA</td>\n",
              "      <td>2048</td>\n",
              "      <td>2500</td>\n",
              "      <td>0.168</td>\n",
              "      <td>0.168</td>\n",
              "    </tr>\n",
              "    <tr>\n",
              "      <th>76663</th>\n",
              "      <td>00030803_000.png</td>\n",
              "      <td>No Finding</td>\n",
              "      <td>0</td>\n",
              "      <td>30803</td>\n",
              "      <td>42</td>\n",
              "      <td>F</td>\n",
              "      <td>PA</td>\n",
              "      <td>2048</td>\n",
              "      <td>2500</td>\n",
              "      <td>0.168</td>\n",
              "      <td>0.168</td>\n",
              "    </tr>\n",
              "    <tr>\n",
              "      <th>76664</th>\n",
              "      <td>00030804_000.png</td>\n",
              "      <td>No Finding</td>\n",
              "      <td>0</td>\n",
              "      <td>30804</td>\n",
              "      <td>29</td>\n",
              "      <td>F</td>\n",
              "      <td>PA</td>\n",
              "      <td>2048</td>\n",
              "      <td>2500</td>\n",
              "      <td>0.168</td>\n",
              "      <td>0.168</td>\n",
              "    </tr>\n",
              "    <tr>\n",
              "      <th>76665</th>\n",
              "      <td>00030805_000.png</td>\n",
              "      <td>No Finding</td>\n",
              "      <td>0</td>\n",
              "      <td>30805</td>\n",
              "      <td>26</td>\n",
              "      <td>M</td>\n",
              "      <td>PA</td>\n",
              "      <td>2048</td>\n",
              "      <td>2500</td>\n",
              "      <td>0.171</td>\n",
              "      <td>0.171</td>\n",
              "    </tr>\n",
              "  </tbody>\n",
              "</table>\n",
              "<p>76666 rows × 11 columns</p>\n",
              "</div>\n",
              "      <button class=\"colab-df-convert\" onclick=\"convertToInteractive('df-49b841df-8b5f-4d9d-bc15-e58ee837fc9f')\"\n",
              "              title=\"Convert this dataframe to an interactive table.\"\n",
              "              style=\"display:none;\">\n",
              "        \n",
              "  <svg xmlns=\"http://www.w3.org/2000/svg\" height=\"24px\"viewBox=\"0 0 24 24\"\n",
              "       width=\"24px\">\n",
              "    <path d=\"M0 0h24v24H0V0z\" fill=\"none\"/>\n",
              "    <path d=\"M18.56 5.44l.94 2.06.94-2.06 2.06-.94-2.06-.94-.94-2.06-.94 2.06-2.06.94zm-11 1L8.5 8.5l.94-2.06 2.06-.94-2.06-.94L8.5 2.5l-.94 2.06-2.06.94zm10 10l.94 2.06.94-2.06 2.06-.94-2.06-.94-.94-2.06-.94 2.06-2.06.94z\"/><path d=\"M17.41 7.96l-1.37-1.37c-.4-.4-.92-.59-1.43-.59-.52 0-1.04.2-1.43.59L10.3 9.45l-7.72 7.72c-.78.78-.78 2.05 0 2.83L4 21.41c.39.39.9.59 1.41.59.51 0 1.02-.2 1.41-.59l7.78-7.78 2.81-2.81c.8-.78.8-2.07 0-2.86zM5.41 20L4 18.59l7.72-7.72 1.47 1.35L5.41 20z\"/>\n",
              "  </svg>\n",
              "      </button>\n",
              "      \n",
              "  <style>\n",
              "    .colab-df-container {\n",
              "      display:flex;\n",
              "      flex-wrap:wrap;\n",
              "      gap: 12px;\n",
              "    }\n",
              "\n",
              "    .colab-df-convert {\n",
              "      background-color: #E8F0FE;\n",
              "      border: none;\n",
              "      border-radius: 50%;\n",
              "      cursor: pointer;\n",
              "      display: none;\n",
              "      fill: #1967D2;\n",
              "      height: 32px;\n",
              "      padding: 0 0 0 0;\n",
              "      width: 32px;\n",
              "    }\n",
              "\n",
              "    .colab-df-convert:hover {\n",
              "      background-color: #E2EBFA;\n",
              "      box-shadow: 0px 1px 2px rgba(60, 64, 67, 0.3), 0px 1px 3px 1px rgba(60, 64, 67, 0.15);\n",
              "      fill: #174EA6;\n",
              "    }\n",
              "\n",
              "    [theme=dark] .colab-df-convert {\n",
              "      background-color: #3B4455;\n",
              "      fill: #D2E3FC;\n",
              "    }\n",
              "\n",
              "    [theme=dark] .colab-df-convert:hover {\n",
              "      background-color: #434B5C;\n",
              "      box-shadow: 0px 1px 3px 1px rgba(0, 0, 0, 0.15);\n",
              "      filter: drop-shadow(0px 1px 2px rgba(0, 0, 0, 0.3));\n",
              "      fill: #FFFFFF;\n",
              "    }\n",
              "  </style>\n",
              "\n",
              "      <script>\n",
              "        const buttonEl =\n",
              "          document.querySelector('#df-49b841df-8b5f-4d9d-bc15-e58ee837fc9f button.colab-df-convert');\n",
              "        buttonEl.style.display =\n",
              "          google.colab.kernel.accessAllowed ? 'block' : 'none';\n",
              "\n",
              "        async function convertToInteractive(key) {\n",
              "          const element = document.querySelector('#df-49b841df-8b5f-4d9d-bc15-e58ee837fc9f');\n",
              "          const dataTable =\n",
              "            await google.colab.kernel.invokeFunction('convertToInteractive',\n",
              "                                                     [key], {});\n",
              "          if (!dataTable) return;\n",
              "\n",
              "          const docLinkHtml = 'Like what you see? Visit the ' +\n",
              "            '<a target=\"_blank\" href=https://colab.research.google.com/notebooks/data_table.ipynb>data table notebook</a>'\n",
              "            + ' to learn more about interactive tables.';\n",
              "          element.innerHTML = '';\n",
              "          dataTable['output_type'] = 'display_data';\n",
              "          await google.colab.output.renderOutput(dataTable, element);\n",
              "          const docLink = document.createElement('div');\n",
              "          docLink.innerHTML = docLinkHtml;\n",
              "          element.appendChild(docLink);\n",
              "        }\n",
              "      </script>\n",
              "    </div>\n",
              "  </div>\n",
              "  "
            ]
          },
          "metadata": {},
          "execution_count": 7
        }
      ],
      "source": [
        "df"
      ]
    },
    {
      "cell_type": "code",
      "execution_count": null,
      "metadata": {
        "id": "BbwUcI6U1Fx3"
      },
      "outputs": [],
      "source": [
        "value_series=df['Finding Labels'].value_counts()\n",
        "value_dict = dict()\n",
        "for i in range(len(value_series)):\n",
        "    index = df['Finding Labels'].value_counts().index[i].split(',')\n",
        "    if len(index) < 2: # dictionary data를 만들기 위해서 일단 단일의 질병만 가지고 있는 사람들을 dicstionary형태로 만듬.\n",
        "        value_dict[index[0]] =  df['Finding Labels'].value_counts()[i]\n",
        "label_list=sorted(list(value_dict.keys()))"
      ]
    },
    {
      "cell_type": "code",
      "execution_count": null,
      "metadata": {
        "colab": {
          "base_uri": "https://localhost:8080/"
        },
        "id": "TobEcdat1KxR",
        "outputId": "7987cb2b-a043-48db-f667-bfd44695b526"
      },
      "outputs": [
        {
          "output_type": "execute_result",
          "data": {
            "text/plain": [
              "['Atelectasis',\n",
              " 'Cardiomegaly',\n",
              " 'Consolidation',\n",
              " 'Edema',\n",
              " 'Effusion',\n",
              " 'Emphysema',\n",
              " 'Fibrosis',\n",
              " 'Hernia',\n",
              " 'Infiltration',\n",
              " 'Mass',\n",
              " 'No Finding',\n",
              " 'Nodule',\n",
              " 'Pleural_Thickening',\n",
              " 'Pneumonia',\n",
              " 'Pneumothorax']"
            ]
          },
          "metadata": {},
          "execution_count": 9
        }
      ],
      "source": [
        "label_list"
      ]
    },
    {
      "cell_type": "code",
      "execution_count": null,
      "metadata": {
        "colab": {
          "base_uri": "https://localhost:8080/"
        },
        "id": "YG2pQJ51sBKd",
        "outputId": "13987e56-6270-4686-cbc4-a84f9003e8e7"
      },
      "outputs": [
        {
          "output_type": "execute_result",
          "data": {
            "text/plain": [
              "{'Atelectasis': 0,\n",
              " 'Cardiomegaly': 1,\n",
              " 'Consolidation': 2,\n",
              " 'Edema': 3,\n",
              " 'Effusion': 4,\n",
              " 'Emphysema': 5,\n",
              " 'Fibrosis': 6,\n",
              " 'Hernia': 7,\n",
              " 'Infiltration': 8,\n",
              " 'Mass': 9,\n",
              " 'No Finding': 10,\n",
              " 'Nodule': 11,\n",
              " 'Pleural_Thickening': 12,\n",
              " 'Pneumonia': 13,\n",
              " 'Pneumothorax': 14}"
            ]
          },
          "metadata": {},
          "execution_count": 10
        }
      ],
      "source": [
        "class2idx = {cls:idx for idx, cls in enumerate(label_list)}\n",
        "class2idx"
      ]
    },
    {
      "cell_type": "code",
      "execution_count": null,
      "metadata": {
        "id": "5HEBNPtusG4z"
      },
      "outputs": [],
      "source": [
        ""
      ]
    },
    {
      "cell_type": "code",
      "execution_count": null,
      "metadata": {
        "colab": {
          "base_uri": "https://localhost:8080/"
        },
        "id": "chAlKeWwxrRj",
        "outputId": "0038eb6b-d70d-4d4f-a287-b5031c220db9"
      },
      "outputs": [
        {
          "output_type": "execute_result",
          "data": {
            "text/plain": [
              "LabelEncoder()"
            ]
          },
          "metadata": {},
          "execution_count": 11
        }
      ],
      "source": [
        "from sklearn.preprocessing import OneHotEncoder,LabelEncoder\n",
        "encoder = LabelEncoder()\n",
        "encoder.fit(label_list)"
      ]
    },
    {
      "cell_type": "code",
      "execution_count": null,
      "metadata": {
        "id": "i-GGpk-A2s8O"
      },
      "outputs": [],
      "source": [
        "dummy_label=encoder.transform((df[df['Image Index']==image_path[0].split('/')[-1]]['Finding Labels'].values[0]).split(','))"
      ]
    },
    {
      "cell_type": "code",
      "execution_count": null,
      "metadata": {
        "colab": {
          "base_uri": "https://localhost:8080/"
        },
        "id": "gZ_FaKxixhlQ",
        "outputId": "754ce5d7-eeef-47c4-f81e-181eebe4590f"
      },
      "outputs": [
        {
          "output_type": "execute_result",
          "data": {
            "text/plain": [
              "array([1])"
            ]
          },
          "metadata": {},
          "execution_count": 13
        }
      ],
      "source": [
        "dummy_label"
      ]
    },
    {
      "cell_type": "code",
      "execution_count": null,
      "metadata": {
        "id": "RTHti2Q0_NHh"
      },
      "outputs": [],
      "source": [
        "class Train_Dataset(Dataset):\n",
        "    def __init__(self, data_path,transform = None):\n",
        "        self.data_path = data_path\n",
        "        self.transform = transform\n",
        "    def __len__(self):\n",
        "        return len(self.data_path)\n",
        "    def __getitem__(self,idx):\n",
        "        path = self.data_path[idx]\n",
        "        img = np.array(Image.open(path).resize((446,446)))\n",
        "        img = img/255\n",
        "        img = img[:,:,np.newaxis]\n",
        "        img = np.concatenate((img,img,img), axis = -1)\n",
        "        label = class2idx[df[df['Image Index']== path.split('/')[-1]]['Finding Labels'].values[0]]\n",
        "        if self.transform is not None:\n",
        "            transformed = self.transform(image=img)\n",
        "            image = transformed['image']\n",
        "        return image.float(), label"
      ]
    },
    {
      "cell_type": "code",
      "execution_count": null,
      "metadata": {
        "id": "K8PmaOQ5pF-3"
      },
      "outputs": [],
      "source": [
        "class val_Dataset(Dataset):\n",
        "    def __init__(self, data_path,transform = None):\n",
        "        self.data_path = data_path\n",
        "        self.transform = transform\n",
        "    def __len__(self):\n",
        "        return len(self.data_path)\n",
        "    def __getitem__(self,idx):\n",
        "        path = self.data_path[idx]\n",
        "        img = np.array(Image.open(path).resize((446,446)))\n",
        "        img = img/255\n",
        "        img = img[:,:,np.newaxis]\n",
        "        img = np.concatenate((img,img,img), axis = -1)\n",
        "        label =  class2idx[df[df['Image Index']== path.split('/')[-1]]['Finding Labels'].values[0]]\n",
        "        if self.transform is not None:\n",
        "            transformed = self.transform(image=img)\n",
        "            image = transformed['image']\n",
        "        return image.float(), label"
      ]
    },
    {
      "cell_type": "code",
      "execution_count": null,
      "metadata": {
        "colab": {
          "base_uri": "https://localhost:8080/",
          "height": 35
        },
        "id": "47NUSt-3sz22",
        "outputId": "dcc437aa-758f-4926-9b53-ac5384496787"
      },
      "outputs": [
        {
          "output_type": "execute_result",
          "data": {
            "text/plain": [
              "'Cardiomegaly'"
            ],
            "application/vnd.google.colaboratory.intrinsic+json": {
              "type": "string"
            }
          },
          "metadata": {},
          "execution_count": 145
        }
      ],
      "source": [
        "df[df['Image Index']== image_path[0].split('/')[-1]]['Finding Labels'].values[0]"
      ]
    },
    {
      "cell_type": "code",
      "execution_count": null,
      "metadata": {
        "id": "hs042d2Lb2sN"
      },
      "outputs": [],
      "source": [
        "#!pip install --upgrade --force-reinstall --no-deps albumentations\n",
        "#!pip install albumentations==0.4.6"
      ]
    },
    {
      "cell_type": "code",
      "execution_count": null,
      "metadata": {
        "id": "zjsRkywlpzRh"
      },
      "outputs": [],
      "source": [
        "import albumentations as A                                                                           \n",
        "from albumentations.pytorch import ToTensorV2"
      ]
    },
    {
      "cell_type": "code",
      "execution_count": null,
      "metadata": {
        "id": "6ps3vqpTfykw"
      },
      "outputs": [],
      "source": [
        "data_transforms = {\n",
        "    'train': A.Compose(\n",
        "    [\n",
        "      ToTensorV2()\n",
        "     ]\n",
        "    ),\n",
        "    'val': A.Compose(\n",
        "        [\n",
        "     ToTensorV2()\n",
        "                            ]\n",
        "                           ),\n",
        "}"
      ]
    },
    {
      "cell_type": "code",
      "execution_count": null,
      "metadata": {
        "id": "GJc4KaBWjQQi"
      },
      "outputs": [],
      "source": [
        "from sklearn.model_selection import train_test_split\n",
        "train_path, val_path = train_test_split(image_path,test_size = 0.2,random_state = 42)"
      ]
    },
    {
      "cell_type": "code",
      "execution_count": null,
      "metadata": {
        "id": "2PMkgsM5iB_D"
      },
      "outputs": [],
      "source": [
        "# Top level data directory. Here we assume the format of the directory conforms\n",
        "#   to the ImageFolder structure\n",
        "\n",
        "# Models to choose from [resnet, alexnet, vgg, squeezenet, densenet, inception]\n",
        "\n",
        "# Number of classes in the dataset\n",
        "num_classes = 15\n",
        "\n",
        "# Batch size for training (change depending on how much memory you have)\n",
        "batch_size = 8\n",
        "\n",
        "# Number of epochs to train for\n",
        "num_epochs = 30\n",
        "\n",
        "# Flag for feature extracting. When False, we finetune the whole model,\n",
        "#   when True we only update the reshaped layer params\n",
        "feature_extract = True"
      ]
    },
    {
      "cell_type": "code",
      "execution_count": null,
      "metadata": {
        "id": "4g3IdrnAk_dk"
      },
      "outputs": [],
      "source": [
        "train_data = Train_Dataset(train_path,transform = data_transforms['train'])\n",
        "val_data = val_Dataset(val_path,transform =  data_transforms['val'])"
      ]
    },
    {
      "cell_type": "code",
      "execution_count": null,
      "metadata": {
        "id": "fe0o3j_QgBQ3"
      },
      "outputs": [],
      "source": [
        "image_datasets = {'train' : train_data , 'val' : val_data}\n",
        "# Create training and validation dataloaders\n",
        "dataloaders_dict = {x: torch.utils.data.DataLoader(image_datasets[x], batch_size=batch_size, shuffle=True) for x in ['train', 'val']}\n",
        "# Detect if we have a GPU available\n",
        "device = torch.device(\"cuda:0\" if torch.cuda.is_available() else \"cpu\")"
      ]
    },
    {
      "cell_type": "markdown",
      "metadata": {
        "id": "Y6M3XBpyrjto"
      },
      "source": [
        "## Model"
      ]
    },
    {
      "cell_type": "code",
      "execution_count": null,
      "metadata": {
        "colab": {
          "base_uri": "https://localhost:8080/"
        },
        "id": "cm-IG2V5fG6K",
        "outputId": "7c070885-28e1-4d2f-9f64-0733247897b6"
      },
      "outputs": [
        {
          "output_type": "stream",
          "name": "stderr",
          "text": [
            "Using cache found in /root/.cache/torch/hub/pytorch_vision_v0.10.0\n"
          ]
        }
      ],
      "source": [
        "model = torch.hub.load('pytorch/vision:v0.10.0','inception_v3',pretrained= True)"
      ]
    },
    {
      "cell_type": "code",
      "execution_count": null,
      "metadata": {
        "id": "sfqjEbZ-CIKf"
      },
      "outputs": [],
      "source": [
        "from __future__ import print_function\n",
        "from __future__ import division\n",
        "import torch\n",
        "import torch.nn as nn\n",
        "import torch.optim as optim\n",
        "import numpy as np\n",
        "import torchvision\n",
        "from torchvision import datasets, models, transforms\n",
        "import matplotlib.pyplot as plt\n",
        "import time\n",
        "import os\n",
        "import copy"
      ]
    },
    {
      "cell_type": "code",
      "execution_count": null,
      "metadata": {
        "id": "gouR33TpCExU"
      },
      "outputs": [],
      "source": [
        "def train_model(model, dataloaders, criterion, optimizer, num_epochs=25, is_inception=False):\n",
        "    since = time.time()\n",
        "\n",
        "    val_acc_history = []\n",
        "    train_acc_history = []\n",
        "    train_loss_hist = []\n",
        "    val_loss_hist = []\n",
        "\n",
        "    best_model_wts = copy.deepcopy(model.state_dict())\n",
        "    best_acc = 0.0\n",
        "\n",
        "    for epoch in range(num_epochs):\n",
        "        print('Epoch {}/{}'.format(epoch, num_epochs - 1))\n",
        "        print('-' * 10)\n",
        "\n",
        "        # Each epoch has a training and validation phase\n",
        "        for phase in ['train', 'val']:\n",
        "            start = time.time()\n",
        "            if phase == 'train':\n",
        "                model.train()  # Set model to training mode\n",
        "            else:\n",
        "                model.eval()   # Set model to evaluate mode\n",
        "\n",
        "            running_loss = 0.0\n",
        "            running_corrects = 0\n",
        "\n",
        "            # Iterate over data.\n",
        "            for inputs, labels in dataloaders[phase]:\n",
        "                inputs = inputs.to(device = device, dtype = torch.float32)\n",
        "                labels = labels.to(device = device)\n",
        "                # zero the parameter gradients\n",
        "                optimizer.zero_grad()\n",
        "\n",
        "                # forward\n",
        "                # track history if only in train\n",
        "                with torch.set_grad_enabled(phase == 'train'):\n",
        "                    # Get model outputs and calculate loss\n",
        "                    # Special case for inception because in training it has an auxiliary output. In train\n",
        "                    #   mode we calculate the loss by summing the final output and the auxiliary output\n",
        "                    #   but in testing we only consider the final output.\n",
        "                    if is_inception and phase == 'train':\n",
        "                        # From https://discuss.pytorch.org/t/how-to-optimize-inception-model-with-auxiliary-classifiers/7958\n",
        "                        outputs,aux_outputs = model(inputs)\n",
        "\n",
        "  \n",
        "                        loss1 = criterion(outputs, torch.squeeze(labels))\n",
        "                        loss2 = criterion(aux_outputs, torch.squeeze(labels))\n",
        "                        \n",
        "                        loss = loss1 + 0.4*loss2\n",
        "                        \n",
        "\n",
        "                    else:\n",
        "                        outputs = model(inputs)\n",
        "                        loss = criterion(outputs, torch.squeeze(labels))\n",
        "\n",
        "                    _, preds = torch.max(outputs, 1)\n",
        "\n",
        "                    # backward + optimize only if in training phase\n",
        "                    if phase == 'train':\n",
        "                        loss.backward()\n",
        "                        optimizer.step()\n",
        "\n",
        "                # statistics\n",
        "                running_loss += loss.item() * inputs.size(0)\n",
        "                running_corrects += torch.sum(preds == labels.data)\n",
        "\n",
        "            epoch_loss = running_loss / len(dataloaders[phase].dataset)\n",
        "            epoch_acc = running_corrects.double() / len(dataloaders[phase].dataset)\n",
        "            if phase == 'train':\n",
        "              train_acc_history.append(epoch_acc)\n",
        "              train_loss_hist.append(epoch_loss)\n",
        "\n",
        "            print('{} Loss: {:.4f} Acc: {:.4f}, Time : {:.4f}'.format(phase, epoch_loss, epoch_acc, time.time()-start))\n",
        "\n",
        "            # deep copy the model\n",
        "            if phase == 'val' and epoch_acc > best_acc:\n",
        "                best_acc = epoch_acc\n",
        "                best_model_wts = copy.deepcopy(model.state_dict())\n",
        "            if phase == 'val':\n",
        "                val_acc_history.append(epoch_acc)\n",
        "                val_loss_hist.append(epoch_loss)\n",
        "\n",
        "        print()\n",
        "\n",
        "    time_elapsed = time.time() - since\n",
        "    print('Training complete in {:.0f}m {:.0f}s'.format(time_elapsed // 60, time_elapsed % 60))\n",
        "    print('Best val Acc: {:4f}'.format(best_acc))\n",
        "\n",
        "    # load best model weights\n",
        "    model.load_state_dict(best_model_wts)\n",
        "    return model, train_loss_hist, train_acc_history, val_loss_hist ,val_acc_history"
      ]
    },
    {
      "cell_type": "code",
      "execution_count": null,
      "metadata": {
        "id": "T8QtRrBqBhCy"
      },
      "outputs": [],
      "source": [
        "def set_parameter_requires_grad(model, feature_extracting):\n",
        "    if feature_extracting:\n",
        "        for param in model.parameters():\n",
        "            param.requires_grad = False"
      ]
    },
    {
      "cell_type": "code",
      "execution_count": null,
      "metadata": {
        "id": "p1yjAM7f0GgQ"
      },
      "outputs": [],
      "source": [
        "def initialize_model(model_ft, num_classes, feature_extract, use_pretrained=True):\n",
        "    # Initialize these variables which will be set in this if statement. Each of these\n",
        "    #   variables is model specific.\n",
        "    set_parameter_requires_grad(model_ft, feature_extract)\n",
        "    # Handle the auxilary net\n",
        "    num_ftrs = model_ft.AuxLogits.fc.in_features\n",
        "    model_ft.AuxLogits.fc = nn.Linear(num_ftrs, num_classes)\n",
        "    # Handle the primary net\n",
        "    num_ftrs = model_ft.fc.in_features\n",
        "    model_ft.fc = nn.Linear(num_ftrs,num_classes)\n",
        "    input_size = 299\n",
        "    return model_ft, input_size"
      ]
    },
    {
      "cell_type": "code",
      "execution_count": null,
      "metadata": {
        "id": "RJlem2JJDXZx"
      },
      "outputs": [],
      "source": [
        "feature_extract = True"
      ]
    },
    {
      "cell_type": "code",
      "execution_count": null,
      "metadata": {
        "id": "m24Y8kzCDSd3"
      },
      "outputs": [],
      "source": [
        "model_ft, input_size = initialize_model(model, 15, feature_extract, use_pretrained=True)"
      ]
    },
    {
      "cell_type": "code",
      "execution_count": null,
      "metadata": {
        "colab": {
          "base_uri": "https://localhost:8080/"
        },
        "id": "HpK1P0JhsLZr",
        "outputId": "3056c68b-3973-43a7-a22b-2695d335b5b9"
      },
      "outputs": [
        {
          "output_type": "stream",
          "name": "stdout",
          "text": [
            "----------------------------------------------------------------\n",
            "        Layer (type)               Output Shape         Param #\n",
            "================================================================\n",
            "            Conv2d-1         [-1, 32, 222, 222]             864\n",
            "       BatchNorm2d-2         [-1, 32, 222, 222]              64\n",
            "       BasicConv2d-3         [-1, 32, 222, 222]               0\n",
            "            Conv2d-4         [-1, 32, 220, 220]           9,216\n",
            "       BatchNorm2d-5         [-1, 32, 220, 220]              64\n",
            "       BasicConv2d-6         [-1, 32, 220, 220]               0\n",
            "            Conv2d-7         [-1, 64, 220, 220]          18,432\n",
            "       BatchNorm2d-8         [-1, 64, 220, 220]             128\n",
            "       BasicConv2d-9         [-1, 64, 220, 220]               0\n",
            "        MaxPool2d-10         [-1, 64, 109, 109]               0\n",
            "           Conv2d-11         [-1, 80, 109, 109]           5,120\n",
            "      BatchNorm2d-12         [-1, 80, 109, 109]             160\n",
            "      BasicConv2d-13         [-1, 80, 109, 109]               0\n",
            "           Conv2d-14        [-1, 192, 107, 107]         138,240\n",
            "      BatchNorm2d-15        [-1, 192, 107, 107]             384\n",
            "      BasicConv2d-16        [-1, 192, 107, 107]               0\n",
            "        MaxPool2d-17          [-1, 192, 53, 53]               0\n",
            "           Conv2d-18           [-1, 64, 53, 53]          12,288\n",
            "      BatchNorm2d-19           [-1, 64, 53, 53]             128\n",
            "      BasicConv2d-20           [-1, 64, 53, 53]               0\n",
            "           Conv2d-21           [-1, 48, 53, 53]           9,216\n",
            "      BatchNorm2d-22           [-1, 48, 53, 53]              96\n",
            "      BasicConv2d-23           [-1, 48, 53, 53]               0\n",
            "           Conv2d-24           [-1, 64, 53, 53]          76,800\n",
            "      BatchNorm2d-25           [-1, 64, 53, 53]             128\n",
            "      BasicConv2d-26           [-1, 64, 53, 53]               0\n",
            "           Conv2d-27           [-1, 64, 53, 53]          12,288\n",
            "      BatchNorm2d-28           [-1, 64, 53, 53]             128\n",
            "      BasicConv2d-29           [-1, 64, 53, 53]               0\n",
            "           Conv2d-30           [-1, 96, 53, 53]          55,296\n",
            "      BatchNorm2d-31           [-1, 96, 53, 53]             192\n",
            "      BasicConv2d-32           [-1, 96, 53, 53]               0\n",
            "           Conv2d-33           [-1, 96, 53, 53]          82,944\n",
            "      BatchNorm2d-34           [-1, 96, 53, 53]             192\n",
            "      BasicConv2d-35           [-1, 96, 53, 53]               0\n",
            "           Conv2d-36           [-1, 32, 53, 53]           6,144\n",
            "      BatchNorm2d-37           [-1, 32, 53, 53]              64\n",
            "      BasicConv2d-38           [-1, 32, 53, 53]               0\n",
            "       InceptionA-39          [-1, 256, 53, 53]               0\n",
            "           Conv2d-40           [-1, 64, 53, 53]          16,384\n",
            "      BatchNorm2d-41           [-1, 64, 53, 53]             128\n",
            "      BasicConv2d-42           [-1, 64, 53, 53]               0\n",
            "           Conv2d-43           [-1, 48, 53, 53]          12,288\n",
            "      BatchNorm2d-44           [-1, 48, 53, 53]              96\n",
            "      BasicConv2d-45           [-1, 48, 53, 53]               0\n",
            "           Conv2d-46           [-1, 64, 53, 53]          76,800\n",
            "      BatchNorm2d-47           [-1, 64, 53, 53]             128\n",
            "      BasicConv2d-48           [-1, 64, 53, 53]               0\n",
            "           Conv2d-49           [-1, 64, 53, 53]          16,384\n",
            "      BatchNorm2d-50           [-1, 64, 53, 53]             128\n",
            "      BasicConv2d-51           [-1, 64, 53, 53]               0\n",
            "           Conv2d-52           [-1, 96, 53, 53]          55,296\n",
            "      BatchNorm2d-53           [-1, 96, 53, 53]             192\n",
            "      BasicConv2d-54           [-1, 96, 53, 53]               0\n",
            "           Conv2d-55           [-1, 96, 53, 53]          82,944\n",
            "      BatchNorm2d-56           [-1, 96, 53, 53]             192\n",
            "      BasicConv2d-57           [-1, 96, 53, 53]               0\n",
            "           Conv2d-58           [-1, 64, 53, 53]          16,384\n",
            "      BatchNorm2d-59           [-1, 64, 53, 53]             128\n",
            "      BasicConv2d-60           [-1, 64, 53, 53]               0\n",
            "       InceptionA-61          [-1, 288, 53, 53]               0\n",
            "           Conv2d-62           [-1, 64, 53, 53]          18,432\n",
            "      BatchNorm2d-63           [-1, 64, 53, 53]             128\n",
            "      BasicConv2d-64           [-1, 64, 53, 53]               0\n",
            "           Conv2d-65           [-1, 48, 53, 53]          13,824\n",
            "      BatchNorm2d-66           [-1, 48, 53, 53]              96\n",
            "      BasicConv2d-67           [-1, 48, 53, 53]               0\n",
            "           Conv2d-68           [-1, 64, 53, 53]          76,800\n",
            "      BatchNorm2d-69           [-1, 64, 53, 53]             128\n",
            "      BasicConv2d-70           [-1, 64, 53, 53]               0\n",
            "           Conv2d-71           [-1, 64, 53, 53]          18,432\n",
            "      BatchNorm2d-72           [-1, 64, 53, 53]             128\n",
            "      BasicConv2d-73           [-1, 64, 53, 53]               0\n",
            "           Conv2d-74           [-1, 96, 53, 53]          55,296\n",
            "      BatchNorm2d-75           [-1, 96, 53, 53]             192\n",
            "      BasicConv2d-76           [-1, 96, 53, 53]               0\n",
            "           Conv2d-77           [-1, 96, 53, 53]          82,944\n",
            "      BatchNorm2d-78           [-1, 96, 53, 53]             192\n",
            "      BasicConv2d-79           [-1, 96, 53, 53]               0\n",
            "           Conv2d-80           [-1, 64, 53, 53]          18,432\n",
            "      BatchNorm2d-81           [-1, 64, 53, 53]             128\n",
            "      BasicConv2d-82           [-1, 64, 53, 53]               0\n",
            "       InceptionA-83          [-1, 288, 53, 53]               0\n",
            "           Conv2d-84          [-1, 384, 26, 26]         995,328\n",
            "      BatchNorm2d-85          [-1, 384, 26, 26]             768\n",
            "      BasicConv2d-86          [-1, 384, 26, 26]               0\n",
            "           Conv2d-87           [-1, 64, 53, 53]          18,432\n",
            "      BatchNorm2d-88           [-1, 64, 53, 53]             128\n",
            "      BasicConv2d-89           [-1, 64, 53, 53]               0\n",
            "           Conv2d-90           [-1, 96, 53, 53]          55,296\n",
            "      BatchNorm2d-91           [-1, 96, 53, 53]             192\n",
            "      BasicConv2d-92           [-1, 96, 53, 53]               0\n",
            "           Conv2d-93           [-1, 96, 26, 26]          82,944\n",
            "      BatchNorm2d-94           [-1, 96, 26, 26]             192\n",
            "      BasicConv2d-95           [-1, 96, 26, 26]               0\n",
            "       InceptionB-96          [-1, 768, 26, 26]               0\n",
            "           Conv2d-97          [-1, 192, 26, 26]         147,456\n",
            "      BatchNorm2d-98          [-1, 192, 26, 26]             384\n",
            "      BasicConv2d-99          [-1, 192, 26, 26]               0\n",
            "          Conv2d-100          [-1, 128, 26, 26]          98,304\n",
            "     BatchNorm2d-101          [-1, 128, 26, 26]             256\n",
            "     BasicConv2d-102          [-1, 128, 26, 26]               0\n",
            "          Conv2d-103          [-1, 128, 26, 26]         114,688\n",
            "     BatchNorm2d-104          [-1, 128, 26, 26]             256\n",
            "     BasicConv2d-105          [-1, 128, 26, 26]               0\n",
            "          Conv2d-106          [-1, 192, 26, 26]         172,032\n",
            "     BatchNorm2d-107          [-1, 192, 26, 26]             384\n",
            "     BasicConv2d-108          [-1, 192, 26, 26]               0\n",
            "          Conv2d-109          [-1, 128, 26, 26]          98,304\n",
            "     BatchNorm2d-110          [-1, 128, 26, 26]             256\n",
            "     BasicConv2d-111          [-1, 128, 26, 26]               0\n",
            "          Conv2d-112          [-1, 128, 26, 26]         114,688\n",
            "     BatchNorm2d-113          [-1, 128, 26, 26]             256\n",
            "     BasicConv2d-114          [-1, 128, 26, 26]               0\n",
            "          Conv2d-115          [-1, 128, 26, 26]         114,688\n",
            "     BatchNorm2d-116          [-1, 128, 26, 26]             256\n",
            "     BasicConv2d-117          [-1, 128, 26, 26]               0\n",
            "          Conv2d-118          [-1, 128, 26, 26]         114,688\n",
            "     BatchNorm2d-119          [-1, 128, 26, 26]             256\n",
            "     BasicConv2d-120          [-1, 128, 26, 26]               0\n",
            "          Conv2d-121          [-1, 192, 26, 26]         172,032\n",
            "     BatchNorm2d-122          [-1, 192, 26, 26]             384\n",
            "     BasicConv2d-123          [-1, 192, 26, 26]               0\n",
            "          Conv2d-124          [-1, 192, 26, 26]         147,456\n",
            "     BatchNorm2d-125          [-1, 192, 26, 26]             384\n",
            "     BasicConv2d-126          [-1, 192, 26, 26]               0\n",
            "      InceptionC-127          [-1, 768, 26, 26]               0\n",
            "          Conv2d-128          [-1, 192, 26, 26]         147,456\n",
            "     BatchNorm2d-129          [-1, 192, 26, 26]             384\n",
            "     BasicConv2d-130          [-1, 192, 26, 26]               0\n",
            "          Conv2d-131          [-1, 160, 26, 26]         122,880\n",
            "     BatchNorm2d-132          [-1, 160, 26, 26]             320\n",
            "     BasicConv2d-133          [-1, 160, 26, 26]               0\n",
            "          Conv2d-134          [-1, 160, 26, 26]         179,200\n",
            "     BatchNorm2d-135          [-1, 160, 26, 26]             320\n",
            "     BasicConv2d-136          [-1, 160, 26, 26]               0\n",
            "          Conv2d-137          [-1, 192, 26, 26]         215,040\n",
            "     BatchNorm2d-138          [-1, 192, 26, 26]             384\n",
            "     BasicConv2d-139          [-1, 192, 26, 26]               0\n",
            "          Conv2d-140          [-1, 160, 26, 26]         122,880\n",
            "     BatchNorm2d-141          [-1, 160, 26, 26]             320\n",
            "     BasicConv2d-142          [-1, 160, 26, 26]               0\n",
            "          Conv2d-143          [-1, 160, 26, 26]         179,200\n",
            "     BatchNorm2d-144          [-1, 160, 26, 26]             320\n",
            "     BasicConv2d-145          [-1, 160, 26, 26]               0\n",
            "          Conv2d-146          [-1, 160, 26, 26]         179,200\n",
            "     BatchNorm2d-147          [-1, 160, 26, 26]             320\n",
            "     BasicConv2d-148          [-1, 160, 26, 26]               0\n",
            "          Conv2d-149          [-1, 160, 26, 26]         179,200\n",
            "     BatchNorm2d-150          [-1, 160, 26, 26]             320\n",
            "     BasicConv2d-151          [-1, 160, 26, 26]               0\n",
            "          Conv2d-152          [-1, 192, 26, 26]         215,040\n",
            "     BatchNorm2d-153          [-1, 192, 26, 26]             384\n",
            "     BasicConv2d-154          [-1, 192, 26, 26]               0\n",
            "          Conv2d-155          [-1, 192, 26, 26]         147,456\n",
            "     BatchNorm2d-156          [-1, 192, 26, 26]             384\n",
            "     BasicConv2d-157          [-1, 192, 26, 26]               0\n",
            "      InceptionC-158          [-1, 768, 26, 26]               0\n",
            "          Conv2d-159          [-1, 192, 26, 26]         147,456\n",
            "     BatchNorm2d-160          [-1, 192, 26, 26]             384\n",
            "     BasicConv2d-161          [-1, 192, 26, 26]               0\n",
            "          Conv2d-162          [-1, 160, 26, 26]         122,880\n",
            "     BatchNorm2d-163          [-1, 160, 26, 26]             320\n",
            "     BasicConv2d-164          [-1, 160, 26, 26]               0\n",
            "          Conv2d-165          [-1, 160, 26, 26]         179,200\n",
            "     BatchNorm2d-166          [-1, 160, 26, 26]             320\n",
            "     BasicConv2d-167          [-1, 160, 26, 26]               0\n",
            "          Conv2d-168          [-1, 192, 26, 26]         215,040\n",
            "     BatchNorm2d-169          [-1, 192, 26, 26]             384\n",
            "     BasicConv2d-170          [-1, 192, 26, 26]               0\n",
            "          Conv2d-171          [-1, 160, 26, 26]         122,880\n",
            "     BatchNorm2d-172          [-1, 160, 26, 26]             320\n",
            "     BasicConv2d-173          [-1, 160, 26, 26]               0\n",
            "          Conv2d-174          [-1, 160, 26, 26]         179,200\n",
            "     BatchNorm2d-175          [-1, 160, 26, 26]             320\n",
            "     BasicConv2d-176          [-1, 160, 26, 26]               0\n",
            "          Conv2d-177          [-1, 160, 26, 26]         179,200\n",
            "     BatchNorm2d-178          [-1, 160, 26, 26]             320\n",
            "     BasicConv2d-179          [-1, 160, 26, 26]               0\n",
            "          Conv2d-180          [-1, 160, 26, 26]         179,200\n",
            "     BatchNorm2d-181          [-1, 160, 26, 26]             320\n",
            "     BasicConv2d-182          [-1, 160, 26, 26]               0\n",
            "          Conv2d-183          [-1, 192, 26, 26]         215,040\n",
            "     BatchNorm2d-184          [-1, 192, 26, 26]             384\n",
            "     BasicConv2d-185          [-1, 192, 26, 26]               0\n",
            "          Conv2d-186          [-1, 192, 26, 26]         147,456\n",
            "     BatchNorm2d-187          [-1, 192, 26, 26]             384\n",
            "     BasicConv2d-188          [-1, 192, 26, 26]               0\n",
            "      InceptionC-189          [-1, 768, 26, 26]               0\n",
            "          Conv2d-190          [-1, 192, 26, 26]         147,456\n",
            "     BatchNorm2d-191          [-1, 192, 26, 26]             384\n",
            "     BasicConv2d-192          [-1, 192, 26, 26]               0\n",
            "          Conv2d-193          [-1, 192, 26, 26]         147,456\n",
            "     BatchNorm2d-194          [-1, 192, 26, 26]             384\n",
            "     BasicConv2d-195          [-1, 192, 26, 26]               0\n",
            "          Conv2d-196          [-1, 192, 26, 26]         258,048\n",
            "     BatchNorm2d-197          [-1, 192, 26, 26]             384\n",
            "     BasicConv2d-198          [-1, 192, 26, 26]               0\n",
            "          Conv2d-199          [-1, 192, 26, 26]         258,048\n",
            "     BatchNorm2d-200          [-1, 192, 26, 26]             384\n",
            "     BasicConv2d-201          [-1, 192, 26, 26]               0\n",
            "          Conv2d-202          [-1, 192, 26, 26]         147,456\n",
            "     BatchNorm2d-203          [-1, 192, 26, 26]             384\n",
            "     BasicConv2d-204          [-1, 192, 26, 26]               0\n",
            "          Conv2d-205          [-1, 192, 26, 26]         258,048\n",
            "     BatchNorm2d-206          [-1, 192, 26, 26]             384\n",
            "     BasicConv2d-207          [-1, 192, 26, 26]               0\n",
            "          Conv2d-208          [-1, 192, 26, 26]         258,048\n",
            "     BatchNorm2d-209          [-1, 192, 26, 26]             384\n",
            "     BasicConv2d-210          [-1, 192, 26, 26]               0\n",
            "          Conv2d-211          [-1, 192, 26, 26]         258,048\n",
            "     BatchNorm2d-212          [-1, 192, 26, 26]             384\n",
            "     BasicConv2d-213          [-1, 192, 26, 26]               0\n",
            "          Conv2d-214          [-1, 192, 26, 26]         258,048\n",
            "     BatchNorm2d-215          [-1, 192, 26, 26]             384\n",
            "     BasicConv2d-216          [-1, 192, 26, 26]               0\n",
            "          Conv2d-217          [-1, 192, 26, 26]         147,456\n",
            "     BatchNorm2d-218          [-1, 192, 26, 26]             384\n",
            "     BasicConv2d-219          [-1, 192, 26, 26]               0\n",
            "      InceptionC-220          [-1, 768, 26, 26]               0\n",
            "          Conv2d-221            [-1, 128, 8, 8]          98,304\n",
            "     BatchNorm2d-222            [-1, 128, 8, 8]             256\n",
            "     BasicConv2d-223            [-1, 128, 8, 8]               0\n",
            "          Conv2d-224            [-1, 768, 4, 4]       2,457,600\n",
            "     BatchNorm2d-225            [-1, 768, 4, 4]           1,536\n",
            "     BasicConv2d-226            [-1, 768, 4, 4]               0\n",
            "          Linear-227                   [-1, 15]          11,535\n",
            "    InceptionAux-228                   [-1, 15]               0\n",
            "          Conv2d-229          [-1, 192, 26, 26]         147,456\n",
            "     BatchNorm2d-230          [-1, 192, 26, 26]             384\n",
            "     BasicConv2d-231          [-1, 192, 26, 26]               0\n",
            "          Conv2d-232          [-1, 320, 12, 12]         552,960\n",
            "     BatchNorm2d-233          [-1, 320, 12, 12]             640\n",
            "     BasicConv2d-234          [-1, 320, 12, 12]               0\n",
            "          Conv2d-235          [-1, 192, 26, 26]         147,456\n",
            "     BatchNorm2d-236          [-1, 192, 26, 26]             384\n",
            "     BasicConv2d-237          [-1, 192, 26, 26]               0\n",
            "          Conv2d-238          [-1, 192, 26, 26]         258,048\n",
            "     BatchNorm2d-239          [-1, 192, 26, 26]             384\n",
            "     BasicConv2d-240          [-1, 192, 26, 26]               0\n",
            "          Conv2d-241          [-1, 192, 26, 26]         258,048\n",
            "     BatchNorm2d-242          [-1, 192, 26, 26]             384\n",
            "     BasicConv2d-243          [-1, 192, 26, 26]               0\n",
            "          Conv2d-244          [-1, 192, 12, 12]         331,776\n",
            "     BatchNorm2d-245          [-1, 192, 12, 12]             384\n",
            "     BasicConv2d-246          [-1, 192, 12, 12]               0\n",
            "      InceptionD-247         [-1, 1280, 12, 12]               0\n",
            "          Conv2d-248          [-1, 320, 12, 12]         409,600\n",
            "     BatchNorm2d-249          [-1, 320, 12, 12]             640\n",
            "     BasicConv2d-250          [-1, 320, 12, 12]               0\n",
            "          Conv2d-251          [-1, 384, 12, 12]         491,520\n",
            "     BatchNorm2d-252          [-1, 384, 12, 12]             768\n",
            "     BasicConv2d-253          [-1, 384, 12, 12]               0\n",
            "          Conv2d-254          [-1, 384, 12, 12]         442,368\n",
            "     BatchNorm2d-255          [-1, 384, 12, 12]             768\n",
            "     BasicConv2d-256          [-1, 384, 12, 12]               0\n",
            "          Conv2d-257          [-1, 384, 12, 12]         442,368\n",
            "     BatchNorm2d-258          [-1, 384, 12, 12]             768\n",
            "     BasicConv2d-259          [-1, 384, 12, 12]               0\n",
            "          Conv2d-260          [-1, 448, 12, 12]         573,440\n",
            "     BatchNorm2d-261          [-1, 448, 12, 12]             896\n",
            "     BasicConv2d-262          [-1, 448, 12, 12]               0\n",
            "          Conv2d-263          [-1, 384, 12, 12]       1,548,288\n",
            "     BatchNorm2d-264          [-1, 384, 12, 12]             768\n",
            "     BasicConv2d-265          [-1, 384, 12, 12]               0\n",
            "          Conv2d-266          [-1, 384, 12, 12]         442,368\n",
            "     BatchNorm2d-267          [-1, 384, 12, 12]             768\n",
            "     BasicConv2d-268          [-1, 384, 12, 12]               0\n",
            "          Conv2d-269          [-1, 384, 12, 12]         442,368\n",
            "     BatchNorm2d-270          [-1, 384, 12, 12]             768\n",
            "     BasicConv2d-271          [-1, 384, 12, 12]               0\n",
            "          Conv2d-272          [-1, 192, 12, 12]         245,760\n",
            "     BatchNorm2d-273          [-1, 192, 12, 12]             384\n",
            "     BasicConv2d-274          [-1, 192, 12, 12]               0\n",
            "      InceptionE-275         [-1, 2048, 12, 12]               0\n",
            "          Conv2d-276          [-1, 320, 12, 12]         655,360\n",
            "     BatchNorm2d-277          [-1, 320, 12, 12]             640\n",
            "     BasicConv2d-278          [-1, 320, 12, 12]               0\n",
            "          Conv2d-279          [-1, 384, 12, 12]         786,432\n",
            "     BatchNorm2d-280          [-1, 384, 12, 12]             768\n",
            "     BasicConv2d-281          [-1, 384, 12, 12]               0\n",
            "          Conv2d-282          [-1, 384, 12, 12]         442,368\n",
            "     BatchNorm2d-283          [-1, 384, 12, 12]             768\n",
            "     BasicConv2d-284          [-1, 384, 12, 12]               0\n",
            "          Conv2d-285          [-1, 384, 12, 12]         442,368\n",
            "     BatchNorm2d-286          [-1, 384, 12, 12]             768\n",
            "     BasicConv2d-287          [-1, 384, 12, 12]               0\n",
            "          Conv2d-288          [-1, 448, 12, 12]         917,504\n",
            "     BatchNorm2d-289          [-1, 448, 12, 12]             896\n",
            "     BasicConv2d-290          [-1, 448, 12, 12]               0\n",
            "          Conv2d-291          [-1, 384, 12, 12]       1,548,288\n",
            "     BatchNorm2d-292          [-1, 384, 12, 12]             768\n",
            "     BasicConv2d-293          [-1, 384, 12, 12]               0\n",
            "          Conv2d-294          [-1, 384, 12, 12]         442,368\n",
            "     BatchNorm2d-295          [-1, 384, 12, 12]             768\n",
            "     BasicConv2d-296          [-1, 384, 12, 12]               0\n",
            "          Conv2d-297          [-1, 384, 12, 12]         442,368\n",
            "     BatchNorm2d-298          [-1, 384, 12, 12]             768\n",
            "     BasicConv2d-299          [-1, 384, 12, 12]               0\n",
            "          Conv2d-300          [-1, 192, 12, 12]         393,216\n",
            "     BatchNorm2d-301          [-1, 192, 12, 12]             384\n",
            "     BasicConv2d-302          [-1, 192, 12, 12]               0\n",
            "      InceptionE-303         [-1, 2048, 12, 12]               0\n",
            "AdaptiveAvgPool2d-304           [-1, 2048, 1, 1]               0\n",
            "         Dropout-305           [-1, 2048, 1, 1]               0\n",
            "          Linear-306                   [-1, 15]          30,735\n",
            "================================================================\n",
            "Total params: 24,385,534\n",
            "Trainable params: 42,270\n",
            "Non-trainable params: 24,343,264\n",
            "----------------------------------------------------------------\n",
            "Input size (MB): 2.28\n",
            "Forward/backward pass size (MB): 521.83\n",
            "Params size (MB): 93.02\n",
            "Estimated Total Size (MB): 617.13\n",
            "----------------------------------------------------------------\n"
          ]
        }
      ],
      "source": [
        "summary(model_ft.to('cuda'),(3,446,446))"
      ]
    },
    {
      "cell_type": "code",
      "execution_count": null,
      "metadata": {
        "colab": {
          "base_uri": "https://localhost:8080/"
        },
        "id": "y5vk_l9Q7kCy",
        "outputId": "16b20574-a73d-49d6-a608-ed837e2e3c8a"
      },
      "outputs": [
        {
          "output_type": "execute_result",
          "data": {
            "text/plain": [
              "Linear(in_features=2048, out_features=15, bias=True)"
            ]
          },
          "metadata": {},
          "execution_count": 165
        }
      ],
      "source": [
        "model_ft.fc"
      ]
    },
    {
      "cell_type": "code",
      "execution_count": null,
      "metadata": {
        "colab": {
          "base_uri": "https://localhost:8080/"
        },
        "id": "6GPv8m22FaN3",
        "outputId": "a0c78f84-9616-4ac2-f016-40454b04a94c"
      },
      "outputs": [
        {
          "output_type": "stream",
          "name": "stdout",
          "text": [
            "Params to learn:\n",
            "\t AuxLogits.fc.weight\n",
            "\t AuxLogits.fc.bias\n",
            "\t fc.weight\n",
            "\t fc.bias\n"
          ]
        }
      ],
      "source": [
        "model_ft = model_ft.to(device)\n",
        "\n",
        "# Gather the parameters to be optimized/updated in this run. If we are\n",
        "#  finetuning we will be updating all parameters. However, if we are\n",
        "#  doing feature extract method, we will only update the parameters\n",
        "#  that we have just initialized, i.e. the parameters with requires_grad\n",
        "#  is True.\n",
        "params_to_update = model_ft.parameters()\n",
        "print(\"Params to learn:\")\n",
        "if feature_extract:\n",
        "    params_to_update = [] # 파라미터 리스트 생성\n",
        "    for name,param in model_ft.named_parameters():\n",
        "        if param.requires_grad == True:\n",
        "            params_to_update.append(param)\n",
        "            print(\"\\t\",name)\n",
        "else:\n",
        "    for name,param in model_ft.named_parameters():\n",
        "        if param.requires_grad == True:\n",
        "            print(\"\\t\",name)\n",
        "\n",
        "# Observe that all parameters are being optimized\n",
        "optimizer_ft = optim.SGD(params_to_update, lr=0.001, momentum=0.9) # 업데이트 할 파라미터만 넣어준다."
      ]
    },
    {
      "cell_type": "code",
      "execution_count": null,
      "metadata": {
        "colab": {
          "base_uri": "https://localhost:8080/",
          "height": 437
        },
        "id": "utH7pN1VD-rX",
        "outputId": "a43fd452-a284-48dc-84c7-c3cf78cebfa4"
      },
      "outputs": [
        {
          "output_type": "stream",
          "name": "stdout",
          "text": [
            "Epoch 0/29\n",
            "----------\n"
          ]
        },
        {
          "output_type": "error",
          "ename": "KeyboardInterrupt",
          "evalue": "ignored",
          "traceback": [
            "\u001b[0;31m---------------------------------------------------------------------------\u001b[0m",
            "\u001b[0;31mKeyboardInterrupt\u001b[0m                         Traceback (most recent call last)",
            "\u001b[0;32m<ipython-input-167-e8cf6cf2ec87>\u001b[0m in \u001b[0;36m<module>\u001b[0;34m()\u001b[0m\n\u001b[1;32m      2\u001b[0m \u001b[0;34m\u001b[0m\u001b[0m\n\u001b[1;32m      3\u001b[0m \u001b[0;31m# Train and evaluate\u001b[0m\u001b[0;34m\u001b[0m\u001b[0;34m\u001b[0m\u001b[0;34m\u001b[0m\u001b[0m\n\u001b[0;32m----> 4\u001b[0;31m \u001b[0mmodel_ft\u001b[0m\u001b[0;34m,\u001b[0m \u001b[0mtrain_loss\u001b[0m\u001b[0;34m,\u001b[0m \u001b[0mtrain_acc\u001b[0m\u001b[0;34m,\u001b[0m \u001b[0mval_loss\u001b[0m\u001b[0;34m,\u001b[0m \u001b[0mval_acc\u001b[0m  \u001b[0;34m=\u001b[0m \u001b[0mtrain_model\u001b[0m\u001b[0;34m(\u001b[0m\u001b[0mmodel_ft\u001b[0m\u001b[0;34m,\u001b[0m \u001b[0mdataloaders_dict\u001b[0m\u001b[0;34m,\u001b[0m \u001b[0mcriterion\u001b[0m\u001b[0;34m,\u001b[0m \u001b[0moptimizer_ft\u001b[0m\u001b[0;34m,\u001b[0m \u001b[0mnum_epochs\u001b[0m\u001b[0;34m=\u001b[0m\u001b[0mnum_epochs\u001b[0m\u001b[0;34m,\u001b[0m \u001b[0mis_inception\u001b[0m\u001b[0;34m=\u001b[0m \u001b[0;32mTrue\u001b[0m\u001b[0;34m)\u001b[0m\u001b[0;34m\u001b[0m\u001b[0;34m\u001b[0m\u001b[0m\n\u001b[0m",
            "\u001b[0;32m<ipython-input-158-04f071a23783>\u001b[0m in \u001b[0;36mtrain_model\u001b[0;34m(model, dataloaders, criterion, optimizer, num_epochs, is_inception)\u001b[0m\n\u001b[1;32m     26\u001b[0m \u001b[0;34m\u001b[0m\u001b[0m\n\u001b[1;32m     27\u001b[0m             \u001b[0;31m# Iterate over data.\u001b[0m\u001b[0;34m\u001b[0m\u001b[0;34m\u001b[0m\u001b[0;34m\u001b[0m\u001b[0m\n\u001b[0;32m---> 28\u001b[0;31m             \u001b[0;32mfor\u001b[0m \u001b[0minputs\u001b[0m\u001b[0;34m,\u001b[0m \u001b[0mlabels\u001b[0m \u001b[0;32min\u001b[0m \u001b[0mdataloaders\u001b[0m\u001b[0;34m[\u001b[0m\u001b[0mphase\u001b[0m\u001b[0;34m]\u001b[0m\u001b[0;34m:\u001b[0m\u001b[0;34m\u001b[0m\u001b[0;34m\u001b[0m\u001b[0m\n\u001b[0m\u001b[1;32m     29\u001b[0m                 \u001b[0minputs\u001b[0m \u001b[0;34m=\u001b[0m \u001b[0minputs\u001b[0m\u001b[0;34m.\u001b[0m\u001b[0mto\u001b[0m\u001b[0;34m(\u001b[0m\u001b[0mdevice\u001b[0m \u001b[0;34m=\u001b[0m \u001b[0mdevice\u001b[0m\u001b[0;34m,\u001b[0m \u001b[0mdtype\u001b[0m \u001b[0;34m=\u001b[0m \u001b[0mtorch\u001b[0m\u001b[0;34m.\u001b[0m\u001b[0mfloat32\u001b[0m\u001b[0;34m)\u001b[0m\u001b[0;34m\u001b[0m\u001b[0;34m\u001b[0m\u001b[0m\n\u001b[1;32m     30\u001b[0m                 \u001b[0mlabels\u001b[0m \u001b[0;34m=\u001b[0m \u001b[0mlabels\u001b[0m\u001b[0;34m.\u001b[0m\u001b[0mto\u001b[0m\u001b[0;34m(\u001b[0m\u001b[0mdevice\u001b[0m \u001b[0;34m=\u001b[0m \u001b[0mdevice\u001b[0m\u001b[0;34m)\u001b[0m\u001b[0;34m\u001b[0m\u001b[0;34m\u001b[0m\u001b[0m\n",
            "\u001b[0;32m/usr/local/lib/python3.7/dist-packages/torch/utils/data/dataloader.py\u001b[0m in \u001b[0;36m__next__\u001b[0;34m(self)\u001b[0m\n\u001b[1;32m    519\u001b[0m             \u001b[0;32mif\u001b[0m \u001b[0mself\u001b[0m\u001b[0;34m.\u001b[0m\u001b[0m_sampler_iter\u001b[0m \u001b[0;32mis\u001b[0m \u001b[0;32mNone\u001b[0m\u001b[0;34m:\u001b[0m\u001b[0;34m\u001b[0m\u001b[0;34m\u001b[0m\u001b[0m\n\u001b[1;32m    520\u001b[0m                 \u001b[0mself\u001b[0m\u001b[0;34m.\u001b[0m\u001b[0m_reset\u001b[0m\u001b[0;34m(\u001b[0m\u001b[0;34m)\u001b[0m\u001b[0;34m\u001b[0m\u001b[0;34m\u001b[0m\u001b[0m\n\u001b[0;32m--> 521\u001b[0;31m             \u001b[0mdata\u001b[0m \u001b[0;34m=\u001b[0m \u001b[0mself\u001b[0m\u001b[0;34m.\u001b[0m\u001b[0m_next_data\u001b[0m\u001b[0;34m(\u001b[0m\u001b[0;34m)\u001b[0m\u001b[0;34m\u001b[0m\u001b[0;34m\u001b[0m\u001b[0m\n\u001b[0m\u001b[1;32m    522\u001b[0m             \u001b[0mself\u001b[0m\u001b[0;34m.\u001b[0m\u001b[0m_num_yielded\u001b[0m \u001b[0;34m+=\u001b[0m \u001b[0;36m1\u001b[0m\u001b[0;34m\u001b[0m\u001b[0;34m\u001b[0m\u001b[0m\n\u001b[1;32m    523\u001b[0m             \u001b[0;32mif\u001b[0m \u001b[0mself\u001b[0m\u001b[0;34m.\u001b[0m\u001b[0m_dataset_kind\u001b[0m \u001b[0;34m==\u001b[0m \u001b[0m_DatasetKind\u001b[0m\u001b[0;34m.\u001b[0m\u001b[0mIterable\u001b[0m \u001b[0;32mand\u001b[0m\u001b[0;31m \u001b[0m\u001b[0;31m\\\u001b[0m\u001b[0;34m\u001b[0m\u001b[0;34m\u001b[0m\u001b[0m\n",
            "\u001b[0;32m/usr/local/lib/python3.7/dist-packages/torch/utils/data/dataloader.py\u001b[0m in \u001b[0;36m_next_data\u001b[0;34m(self)\u001b[0m\n\u001b[1;32m    559\u001b[0m     \u001b[0;32mdef\u001b[0m \u001b[0m_next_data\u001b[0m\u001b[0;34m(\u001b[0m\u001b[0mself\u001b[0m\u001b[0;34m)\u001b[0m\u001b[0;34m:\u001b[0m\u001b[0;34m\u001b[0m\u001b[0;34m\u001b[0m\u001b[0m\n\u001b[1;32m    560\u001b[0m         \u001b[0mindex\u001b[0m \u001b[0;34m=\u001b[0m \u001b[0mself\u001b[0m\u001b[0;34m.\u001b[0m\u001b[0m_next_index\u001b[0m\u001b[0;34m(\u001b[0m\u001b[0;34m)\u001b[0m  \u001b[0;31m# may raise StopIteration\u001b[0m\u001b[0;34m\u001b[0m\u001b[0;34m\u001b[0m\u001b[0m\n\u001b[0;32m--> 561\u001b[0;31m         \u001b[0mdata\u001b[0m \u001b[0;34m=\u001b[0m \u001b[0mself\u001b[0m\u001b[0;34m.\u001b[0m\u001b[0m_dataset_fetcher\u001b[0m\u001b[0;34m.\u001b[0m\u001b[0mfetch\u001b[0m\u001b[0;34m(\u001b[0m\u001b[0mindex\u001b[0m\u001b[0;34m)\u001b[0m  \u001b[0;31m# may raise StopIteration\u001b[0m\u001b[0;34m\u001b[0m\u001b[0;34m\u001b[0m\u001b[0m\n\u001b[0m\u001b[1;32m    562\u001b[0m         \u001b[0;32mif\u001b[0m \u001b[0mself\u001b[0m\u001b[0;34m.\u001b[0m\u001b[0m_pin_memory\u001b[0m\u001b[0;34m:\u001b[0m\u001b[0;34m\u001b[0m\u001b[0;34m\u001b[0m\u001b[0m\n\u001b[1;32m    563\u001b[0m             \u001b[0mdata\u001b[0m \u001b[0;34m=\u001b[0m \u001b[0m_utils\u001b[0m\u001b[0;34m.\u001b[0m\u001b[0mpin_memory\u001b[0m\u001b[0;34m.\u001b[0m\u001b[0mpin_memory\u001b[0m\u001b[0;34m(\u001b[0m\u001b[0mdata\u001b[0m\u001b[0;34m)\u001b[0m\u001b[0;34m\u001b[0m\u001b[0;34m\u001b[0m\u001b[0m\n",
            "\u001b[0;32m/usr/local/lib/python3.7/dist-packages/torch/utils/data/_utils/fetch.py\u001b[0m in \u001b[0;36mfetch\u001b[0;34m(self, possibly_batched_index)\u001b[0m\n\u001b[1;32m     47\u001b[0m     \u001b[0;32mdef\u001b[0m \u001b[0mfetch\u001b[0m\u001b[0;34m(\u001b[0m\u001b[0mself\u001b[0m\u001b[0;34m,\u001b[0m \u001b[0mpossibly_batched_index\u001b[0m\u001b[0;34m)\u001b[0m\u001b[0;34m:\u001b[0m\u001b[0;34m\u001b[0m\u001b[0;34m\u001b[0m\u001b[0m\n\u001b[1;32m     48\u001b[0m         \u001b[0;32mif\u001b[0m \u001b[0mself\u001b[0m\u001b[0;34m.\u001b[0m\u001b[0mauto_collation\u001b[0m\u001b[0;34m:\u001b[0m\u001b[0;34m\u001b[0m\u001b[0;34m\u001b[0m\u001b[0m\n\u001b[0;32m---> 49\u001b[0;31m             \u001b[0mdata\u001b[0m \u001b[0;34m=\u001b[0m \u001b[0;34m[\u001b[0m\u001b[0mself\u001b[0m\u001b[0;34m.\u001b[0m\u001b[0mdataset\u001b[0m\u001b[0;34m[\u001b[0m\u001b[0midx\u001b[0m\u001b[0;34m]\u001b[0m \u001b[0;32mfor\u001b[0m \u001b[0midx\u001b[0m \u001b[0;32min\u001b[0m \u001b[0mpossibly_batched_index\u001b[0m\u001b[0;34m]\u001b[0m\u001b[0;34m\u001b[0m\u001b[0;34m\u001b[0m\u001b[0m\n\u001b[0m\u001b[1;32m     50\u001b[0m         \u001b[0;32melse\u001b[0m\u001b[0;34m:\u001b[0m\u001b[0;34m\u001b[0m\u001b[0;34m\u001b[0m\u001b[0m\n\u001b[1;32m     51\u001b[0m             \u001b[0mdata\u001b[0m \u001b[0;34m=\u001b[0m \u001b[0mself\u001b[0m\u001b[0;34m.\u001b[0m\u001b[0mdataset\u001b[0m\u001b[0;34m[\u001b[0m\u001b[0mpossibly_batched_index\u001b[0m\u001b[0;34m]\u001b[0m\u001b[0;34m\u001b[0m\u001b[0;34m\u001b[0m\u001b[0m\n",
            "\u001b[0;32m/usr/local/lib/python3.7/dist-packages/torch/utils/data/_utils/fetch.py\u001b[0m in \u001b[0;36m<listcomp>\u001b[0;34m(.0)\u001b[0m\n\u001b[1;32m     47\u001b[0m     \u001b[0;32mdef\u001b[0m \u001b[0mfetch\u001b[0m\u001b[0;34m(\u001b[0m\u001b[0mself\u001b[0m\u001b[0;34m,\u001b[0m \u001b[0mpossibly_batched_index\u001b[0m\u001b[0;34m)\u001b[0m\u001b[0;34m:\u001b[0m\u001b[0;34m\u001b[0m\u001b[0;34m\u001b[0m\u001b[0m\n\u001b[1;32m     48\u001b[0m         \u001b[0;32mif\u001b[0m \u001b[0mself\u001b[0m\u001b[0;34m.\u001b[0m\u001b[0mauto_collation\u001b[0m\u001b[0;34m:\u001b[0m\u001b[0;34m\u001b[0m\u001b[0;34m\u001b[0m\u001b[0m\n\u001b[0;32m---> 49\u001b[0;31m             \u001b[0mdata\u001b[0m \u001b[0;34m=\u001b[0m \u001b[0;34m[\u001b[0m\u001b[0mself\u001b[0m\u001b[0;34m.\u001b[0m\u001b[0mdataset\u001b[0m\u001b[0;34m[\u001b[0m\u001b[0midx\u001b[0m\u001b[0;34m]\u001b[0m \u001b[0;32mfor\u001b[0m \u001b[0midx\u001b[0m \u001b[0;32min\u001b[0m \u001b[0mpossibly_batched_index\u001b[0m\u001b[0;34m]\u001b[0m\u001b[0;34m\u001b[0m\u001b[0;34m\u001b[0m\u001b[0m\n\u001b[0m\u001b[1;32m     50\u001b[0m         \u001b[0;32melse\u001b[0m\u001b[0;34m:\u001b[0m\u001b[0;34m\u001b[0m\u001b[0;34m\u001b[0m\u001b[0m\n\u001b[1;32m     51\u001b[0m             \u001b[0mdata\u001b[0m \u001b[0;34m=\u001b[0m \u001b[0mself\u001b[0m\u001b[0;34m.\u001b[0m\u001b[0mdataset\u001b[0m\u001b[0;34m[\u001b[0m\u001b[0mpossibly_batched_index\u001b[0m\u001b[0;34m]\u001b[0m\u001b[0;34m\u001b[0m\u001b[0;34m\u001b[0m\u001b[0m\n",
            "\u001b[0;32m<ipython-input-143-6ea681fcc9e6>\u001b[0m in \u001b[0;36m__getitem__\u001b[0;34m(self, idx)\u001b[0m\n\u001b[1;32m     10\u001b[0m         \u001b[0mimg\u001b[0m \u001b[0;34m=\u001b[0m \u001b[0mimg\u001b[0m\u001b[0;34m/\u001b[0m\u001b[0;36m255\u001b[0m\u001b[0;34m\u001b[0m\u001b[0;34m\u001b[0m\u001b[0m\n\u001b[1;32m     11\u001b[0m         \u001b[0mimg\u001b[0m \u001b[0;34m=\u001b[0m \u001b[0mimg\u001b[0m\u001b[0;34m[\u001b[0m\u001b[0;34m:\u001b[0m\u001b[0;34m,\u001b[0m\u001b[0;34m:\u001b[0m\u001b[0;34m,\u001b[0m\u001b[0mnp\u001b[0m\u001b[0;34m.\u001b[0m\u001b[0mnewaxis\u001b[0m\u001b[0;34m]\u001b[0m\u001b[0;34m\u001b[0m\u001b[0;34m\u001b[0m\u001b[0m\n\u001b[0;32m---> 12\u001b[0;31m         \u001b[0mimg\u001b[0m \u001b[0;34m=\u001b[0m \u001b[0mnp\u001b[0m\u001b[0;34m.\u001b[0m\u001b[0mconcatenate\u001b[0m\u001b[0;34m(\u001b[0m\u001b[0;34m(\u001b[0m\u001b[0mimg\u001b[0m\u001b[0;34m,\u001b[0m\u001b[0mimg\u001b[0m\u001b[0;34m,\u001b[0m\u001b[0mimg\u001b[0m\u001b[0;34m)\u001b[0m\u001b[0;34m,\u001b[0m \u001b[0maxis\u001b[0m \u001b[0;34m=\u001b[0m \u001b[0;34m-\u001b[0m\u001b[0;36m1\u001b[0m\u001b[0;34m)\u001b[0m\u001b[0;34m\u001b[0m\u001b[0;34m\u001b[0m\u001b[0m\n\u001b[0m\u001b[1;32m     13\u001b[0m         \u001b[0mlabel\u001b[0m \u001b[0;34m=\u001b[0m \u001b[0mclass2idx\u001b[0m\u001b[0;34m[\u001b[0m\u001b[0mdf\u001b[0m\u001b[0;34m[\u001b[0m\u001b[0mdf\u001b[0m\u001b[0;34m[\u001b[0m\u001b[0;34m'Image Index'\u001b[0m\u001b[0;34m]\u001b[0m\u001b[0;34m==\u001b[0m \u001b[0mpath\u001b[0m\u001b[0;34m.\u001b[0m\u001b[0msplit\u001b[0m\u001b[0;34m(\u001b[0m\u001b[0;34m'/'\u001b[0m\u001b[0;34m)\u001b[0m\u001b[0;34m[\u001b[0m\u001b[0;34m-\u001b[0m\u001b[0;36m1\u001b[0m\u001b[0;34m]\u001b[0m\u001b[0;34m]\u001b[0m\u001b[0;34m[\u001b[0m\u001b[0;34m'Finding Labels'\u001b[0m\u001b[0;34m]\u001b[0m\u001b[0;34m.\u001b[0m\u001b[0mvalues\u001b[0m\u001b[0;34m[\u001b[0m\u001b[0;36m0\u001b[0m\u001b[0;34m]\u001b[0m\u001b[0;34m]\u001b[0m\u001b[0;34m\u001b[0m\u001b[0;34m\u001b[0m\u001b[0m\n\u001b[1;32m     14\u001b[0m         \u001b[0;32mif\u001b[0m \u001b[0mself\u001b[0m\u001b[0;34m.\u001b[0m\u001b[0mtransform\u001b[0m \u001b[0;32mis\u001b[0m \u001b[0;32mnot\u001b[0m \u001b[0;32mNone\u001b[0m\u001b[0;34m:\u001b[0m\u001b[0;34m\u001b[0m\u001b[0;34m\u001b[0m\u001b[0m\n",
            "\u001b[0;32m<__array_function__ internals>\u001b[0m in \u001b[0;36mconcatenate\u001b[0;34m(*args, **kwargs)\u001b[0m\n",
            "\u001b[0;31mKeyboardInterrupt\u001b[0m: "
          ]
        }
      ],
      "source": [
        "criterion = nn.CrossEntropyLoss()\n",
        "\n",
        "# Train and evaluate\n",
        "model_ft, train_loss, train_acc, val_loss, val_acc  = train_model(model_ft, dataloaders_dict, criterion, optimizer_ft, num_epochs=num_epochs, is_inception= True)"
      ]
    },
    {
      "cell_type": "code",
      "execution_count": null,
      "metadata": {
        "id": "DdgUEYt0HQjE",
        "colab": {
          "base_uri": "https://localhost:8080/",
          "height": 247
        },
        "outputId": "2360e453-1862-4e48-d108-5098cab552ff"
      },
      "outputs": [
        {
          "output_type": "error",
          "ename": "NameError",
          "evalue": "ignored",
          "traceback": [
            "\u001b[0;31m---------------------------------------------------------------------------\u001b[0m",
            "\u001b[0;31mNameError\u001b[0m                                 Traceback (most recent call last)",
            "\u001b[0;32m<ipython-input-79-21b6c68ee67c>\u001b[0m in \u001b[0;36m<module>\u001b[0;34m()\u001b[0m\n\u001b[0;32m----> 1\u001b[0;31m \u001b[0mplt\u001b[0m\u001b[0;34m.\u001b[0m\u001b[0mplot\u001b[0m\u001b[0;34m(\u001b[0m\u001b[0mtrain_loss\u001b[0m\u001b[0;34m)\u001b[0m\u001b[0;34m\u001b[0m\u001b[0;34m\u001b[0m\u001b[0m\n\u001b[0m\u001b[1;32m      2\u001b[0m \u001b[0mplt\u001b[0m\u001b[0;34m.\u001b[0m\u001b[0mplot\u001b[0m\u001b[0;34m(\u001b[0m\u001b[0mval_loss\u001b[0m\u001b[0;34m)\u001b[0m\u001b[0;34m\u001b[0m\u001b[0;34m\u001b[0m\u001b[0m\n\u001b[1;32m      3\u001b[0m \u001b[0mplt\u001b[0m\u001b[0;34m.\u001b[0m\u001b[0mtitle\u001b[0m\u001b[0;34m(\u001b[0m\u001b[0;34m'Inception V3 Loss'\u001b[0m\u001b[0;34m,\u001b[0m \u001b[0mfontsize\u001b[0m \u001b[0;34m=\u001b[0m \u001b[0;36m15\u001b[0m\u001b[0;34m)\u001b[0m\u001b[0;34m\u001b[0m\u001b[0;34m\u001b[0m\u001b[0m\n\u001b[1;32m      4\u001b[0m \u001b[0mplt\u001b[0m\u001b[0;34m.\u001b[0m\u001b[0mxlabel\u001b[0m\u001b[0;34m(\u001b[0m\u001b[0;34m'Epoch'\u001b[0m\u001b[0;34m,\u001b[0m \u001b[0mfontsize\u001b[0m \u001b[0;34m=\u001b[0m \u001b[0;36m15\u001b[0m\u001b[0;34m)\u001b[0m\u001b[0;34m\u001b[0m\u001b[0;34m\u001b[0m\u001b[0m\n\u001b[1;32m      5\u001b[0m \u001b[0mplt\u001b[0m\u001b[0;34m.\u001b[0m\u001b[0mylabel\u001b[0m\u001b[0;34m(\u001b[0m\u001b[0;34m'Loss'\u001b[0m\u001b[0;34m,\u001b[0m \u001b[0mfontsize\u001b[0m \u001b[0;34m=\u001b[0m \u001b[0;36m15\u001b[0m\u001b[0;34m)\u001b[0m\u001b[0;34m\u001b[0m\u001b[0;34m\u001b[0m\u001b[0m\n",
            "\u001b[0;31mNameError\u001b[0m: name 'train_loss' is not defined"
          ]
        }
      ],
      "source": [
        "plt.plot(train_loss)\n",
        "plt.plot(val_loss)\n",
        "plt.title('Inception V3 Loss', fontsize = 15)\n",
        "plt.xlabel('Epoch', fontsize = 15)\n",
        "plt.ylabel('Loss', fontsize = 15)\n",
        "plt.ylim(0,1)\n",
        "plt.legend(['train','test'], loc='upper left')\n",
        "plt.show()"
      ]
    },
    {
      "cell_type": "code",
      "execution_count": null,
      "metadata": {
        "id": "jWj469HeMans"
      },
      "outputs": [],
      "source": [
        "train_accuracy = []\n",
        "val_accuracy = []"
      ]
    },
    {
      "cell_type": "code",
      "execution_count": null,
      "metadata": {
        "id": "6uW6--4SNSak"
      },
      "outputs": [],
      "source": [
        "val_acc[0].to('cpu').numpy()"
      ]
    },
    {
      "cell_type": "code",
      "execution_count": null,
      "metadata": {
        "id": "iCgIB62sO8x8"
      },
      "outputs": [],
      "source": [
        "for i in range(len(train_acc)):\n",
        "  train_accuracy.append(train_acc[i].to('cpu').numpy())\n",
        "for i in range(len(val_acc)):\n",
        "  val_accuracy.append(val_acc[i].to('cpu').numpy())"
      ]
    },
    {
      "cell_type": "code",
      "execution_count": null,
      "metadata": {
        "id": "GTJpCyCMQj6-"
      },
      "outputs": [],
      "source": [
        "plt.plot(train_accuracy)\n",
        "plt.plot(val_accuracy)\n",
        "plt.title('Inception V3 Accuracy', fontsize = 15)\n",
        "plt.xlabel('Epoch', fontsize = 15)\n",
        "plt.ylabel('Accuracy', fontsize = 15)\n",
        "plt.ylim(0,1)\n",
        "plt.legend(['train','test'], loc='upper left')\n",
        "plt.show()"
      ]
    },
    {
      "cell_type": "code",
      "execution_count": null,
      "metadata": {
        "id": "ee4qZ887MHeI"
      },
      "outputs": [],
      "source": [
        "train_acc[0].to('cpu').numpy()"
      ]
    },
    {
      "cell_type": "code",
      "execution_count": null,
      "metadata": {
        "id": "gJo_jNbrMzO3"
      },
      "outputs": [],
      "source": [
        "train_accuracy"
      ]
    },
    {
      "cell_type": "code",
      "execution_count": null,
      "metadata": {
        "id": "Gahod6pFM21C"
      },
      "outputs": [],
      "source": [
        "torch.save(model_ft, '/content/drive/Shareddrives/캡스톤 디자인1/codes/Inceptionv3_multiclassclassfication_model')"
      ]
    },
    {
      "cell_type": "code",
      "execution_count": null,
      "metadata": {
        "id": "lvU7IXQTWbt7"
      },
      "outputs": [],
      "source": [
        "model_ft = torch.load('/content/drive/Shareddrives/캡스톤 디자인1/codes/Inceptionv3_multiclassclassfication_model')"
      ]
    },
    {
      "cell_type": "code",
      "source": [
        "class test_Dataset(Dataset):\n",
        "    def __init__(self, data_path,transform = None):\n",
        "        self.data_path = data_path\n",
        "        self.transform = transform\n",
        "    def __len__(self):\n",
        "        return len(self.data_path)\n",
        "    def __getitem__(self,idx):\n",
        "        path = self.data_path[idx]\n",
        "        img = np.array(Image.open(path).resize((446,446)))\n",
        "        img = img/255\n",
        "        img = img[:,:,np.newaxis]\n",
        "        img = np.concatenate((img,img,img), axis = -1)\n",
        "        label =  class2idx[df[df['Image Index']== path.split('/')[-1]]['Finding Labels'].values[0]]\n",
        "        if self.transform is not None:\n",
        "            transformed = self.transform(image=img)\n",
        "            image = transformed['image']\n",
        "        return image.float(), label"
      ],
      "metadata": {
        "id": "_oLmj0ZFLlMD"
      },
      "execution_count": null,
      "outputs": []
    },
    {
      "cell_type": "code",
      "source": [
        "data_transforms_test = A.Compose(\n",
        "        [\n",
        "     ToTensorV2()\n",
        "                            ]\n",
        "                           )\n"
      ],
      "metadata": {
        "id": "KEKXNPmBLniJ"
      },
      "execution_count": null,
      "outputs": []
    },
    {
      "cell_type": "code",
      "source": [
        "test_data = test_Dataset(val_path,transform = data_transforms_test)\n",
        "test_loader = torch.utils.data.DataLoader(test_data, batch_size=batch_size, shuffle= False)"
      ],
      "metadata": {
        "id": "gf3VyuACLpJy"
      },
      "execution_count": null,
      "outputs": []
    },
    {
      "cell_type": "code",
      "execution_count": null,
      "metadata": {
        "id": "97PpctyCtQCe"
      },
      "outputs": [],
      "source": [
        "running_loss = 0.0\n",
        "running_corrects = 0\n",
        "start = time.time()\n",
        "output_list = list()\n",
        "label_list = list()\n",
        "for inputs, labels in test_loader:\n",
        "    inputs = inputs.to(device = device, dtype = torch.float32)\n",
        "    labels = labels.to(device = device)\n",
        "    label_list+= list(labels.cpu().numpy())\n",
        "    # zero the parameter gradients\n",
        "    optimizer_ft.zero_grad()\n",
        "    outputs,aux_outputs = model(inputs)\n",
        "    output_list+=list((torch.argmax(outputs,axis = 1).cpu().numpy()))    \n",
        "    loss1 = criterion(outputs, torch.squeeze(labels))\n",
        "    loss2 = criterion(aux_outputs, torch.squeeze(labels))\n",
        "    \n",
        "    loss = loss1 + 0.4*loss2\n",
        "    _, preds = torch.max(outputs, 1)\n",
        "    running_loss += loss.item() * inputs.size(0)\n",
        "    running_corrects += torch.sum(preds == labels.data)\n",
        "    epoch_loss = running_loss / len(test_loader.dataset)\n",
        "    epoch_acc = running_corrects.double() / len(test_loader.dataset)\n",
        "print('Test Loss: {:.4f} Acc: {:.4f}, Time : {:.4f}'.format(epoch_loss, epoch_acc, time.time()-start))"
      ]
    },
    {
      "cell_type": "code",
      "source": [
        "label_list = list()\n",
        "for inputs, labels in test_loader:\n",
        "    labels = labels.to(device = device)\n",
        "    label_list+=list(labels.cpu().numpy())"
      ],
      "metadata": {
        "id": "MGfMoHo2RDix"
      },
      "execution_count": null,
      "outputs": []
    },
    {
      "cell_type": "code",
      "source": [
        "labels.cpu().numpy()"
      ],
      "metadata": {
        "id": "-XfFwGZnRYyN"
      },
      "execution_count": null,
      "outputs": []
    },
    {
      "cell_type": "code",
      "execution_count": null,
      "metadata": {
        "id": "Wcz6YIy-ucZC"
      },
      "outputs": [],
      "source": [
        "torch.argmax(outputs,axis = 1).cpu().numpy()"
      ]
    },
    {
      "cell_type": "code",
      "source": [
        "dummy_df = pd.DataFrame(output_list)"
      ],
      "metadata": {
        "id": "LBvO6Z85NlSs"
      },
      "execution_count": null,
      "outputs": []
    },
    {
      "cell_type": "code",
      "source": [
        "dummy_df.value_counts()"
      ],
      "metadata": {
        "id": "Ceb65Q8cOaT-"
      },
      "execution_count": null,
      "outputs": []
    },
    {
      "cell_type": "code",
      "source": [
        "dummy_df_label = pd.DataFrame(label_list)"
      ],
      "metadata": {
        "id": "MuXgHeegObol"
      },
      "execution_count": null,
      "outputs": []
    },
    {
      "cell_type": "code",
      "source": [
        "dummy_df_label.value_counts()"
      ],
      "metadata": {
        "id": "5tj_lgQySCN8"
      },
      "execution_count": null,
      "outputs": []
    },
    {
      "cell_type": "code",
      "source": [
        ""
      ],
      "metadata": {
        "id": "0xRLHyqdSFGJ"
      },
      "execution_count": null,
      "outputs": []
    }
  ],
  "metadata": {
    "accelerator": "GPU",
    "colab": {
      "collapsed_sections": [],
      "machine_shape": "hm",
      "name": "inceptionv3_multiclassclassfication.ipynb",
      "provenance": [],
      "mount_file_id": "1OpV2qU_w6OPHXajetpbgF87mBC4-iCpV",
      "authorship_tag": "ABX9TyOUSJJkoQ5gz66NF8+GmSVX",
      "include_colab_link": true
    },
    "kernelspec": {
      "display_name": "Python 3",
      "name": "python3"
    },
    "language_info": {
      "name": "python"
    }
  },
  "nbformat": 4,
  "nbformat_minor": 0
}