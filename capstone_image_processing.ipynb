{
  "nbformat": 4,
  "nbformat_minor": 0,
  "metadata": {
    "colab": {
      "name": "capstone image processing",
      "private_outputs": true,
      "provenance": [],
      "collapsed_sections": [],
      "include_colab_link": true
    },
    "kernelspec": {
      "name": "python3",
      "display_name": "Python 3"
    },
    "language_info": {
      "name": "python"
    }
  },
  "cells": [
    {
      "cell_type": "markdown",
      "metadata": {
        "id": "view-in-github",
        "colab_type": "text"
      },
      "source": [
        "<a href=\"https://colab.research.google.com/github/young-hyun-park/capston_design/blob/main/capstone_image_processing.ipynb\" target=\"_parent\"><img src=\"https://colab.research.google.com/assets/colab-badge.svg\" alt=\"Open In Colab\"/></a>"
      ]
    },
    {
      "cell_type": "code",
      "source": [
        "import numpy as np # linear algebra\n",
        "import pandas as pd # data processing, CSV file I/O (e.g. pd.read_csv)\n",
        "import os\n",
        "from glob import glob\n",
        "%matplotlib inline\n",
        "import matplotlib.pyplot as plt"
      ],
      "metadata": {
        "id": "Dw33fIA5THxK"
      },
      "execution_count": null,
      "outputs": []
    },
    {
      "cell_type": "code",
      "source": [
        "data = pd.read_csv(\"/content/drive/MyDrive/capstone/Data_Entry_2017.csv\", sep=\",\")"
      ],
      "metadata": {
        "id": "kOpDnlc8bVGq"
      },
      "execution_count": null,
      "outputs": []
    },
    {
      "cell_type": "code",
      "source": [
        "from google.colab import drive\n",
        "drive.mount('/content/drive')"
      ],
      "metadata": {
        "id": "7nP0iqsGeS23"
      },
      "execution_count": null,
      "outputs": []
    },
    {
      "cell_type": "code",
      "source": [
        "data.head()"
      ],
      "metadata": {
        "id": "nfCNmNg4bbEE"
      },
      "execution_count": null,
      "outputs": []
    },
    {
      "cell_type": "code",
      "source": [
        "all_image_paths = {os.path.basename(x): x for x in \n",
        "                   glob(os.path.join('.', 'data', 'images*', '*.png'))}\n",
        "print('Scans found:', len(all_image_paths), ', Total Headers', data.shape[0])\n",
        "data['path'] = data['Image Index'].map(all_image_paths.get)\n",
        "data['path'] = data['Image Index'].map(all_image_paths.get)\n",
        "\n",
        "data.sample(3)"
      ],
      "metadata": {
        "id": "DbagtsyhbhuF"
      },
      "execution_count": null,
      "outputs": []
    },
    {
      "cell_type": "code",
      "source": [
        "label_counts = data['Finding Labels'].value_counts()[:15]\n",
        "fig, ax1 = plt.subplots(1,1,figsize = (12, 8))\n",
        "ax1.bar(np.arange(len(label_counts))+0.5, label_counts)\n",
        "ax1.set_xticks(np.arange(len(label_counts))+0.5)\n",
        "_ = ax1.set_xticklabels(label_counts.index, rotation = 90)"
      ],
      "metadata": {
        "id": "awLu-CMfc-gr"
      },
      "execution_count": null,
      "outputs": []
    },
    {
      "cell_type": "code",
      "source": [
        "import cv2\n",
        "import numpy as np"
      ],
      "metadata": {
        "id": "vF1Fa6HKeArt"
      },
      "execution_count": null,
      "outputs": []
    },
    {
      "cell_type": "code",
      "source": [
        "img_gray = image = cv2.imread('/content/drive/MyDrive/capstone/sample/Consolidation.png',cv2.IMREAD_GRAYSCALE)\n",
        "plt.imshow(image,cmap='gray')"
      ],
      "metadata": {
        "id": "a1OUbUY0DMTR"
      },
      "execution_count": null,
      "outputs": []
    },
    {
      "cell_type": "code",
      "source": [
        "hist1 = cv2.calcHist([img_gray], [0],None, [256],[0,256])\n",
        "plt.plot(hist1)"
      ],
      "metadata": {
        "id": "kGlf5DoGAxzt"
      },
      "execution_count": null,
      "outputs": []
    },
    {
      "cell_type": "markdown",
      "source": [
        "##이미지 정규화(Image Normalization)\n",
        " consolidation을 기준으로 결과를 본 결과 육안으로 차이점을 구분할 수 없다."
      ],
      "metadata": {
        "id": "7VXFO2Ug_rWr"
      }
    },
    {
      "cell_type": "code",
      "source": [
        "img_norm = cv2.normalize(image, None, 0, 255, cv2.NORM_MINMAX)\n",
        "hist_norm = cv2.calcHist([img_norm], [0], None, [256], [0, 255])"
      ],
      "metadata": {
        "id": "cKy_p_45BWFj"
      },
      "execution_count": null,
      "outputs": []
    },
    {
      "cell_type": "code",
      "source": [
        "plt.imshow(img_norm)"
      ],
      "metadata": {
        "id": "j32SyX6Gx5zX"
      },
      "execution_count": null,
      "outputs": []
    },
    {
      "cell_type": "markdown",
      "source": [
        "## 이미지 히스토그램 평활화 \n",
        "이미지 정규화보다 좀 더 시각적으로 잘 보이는 것을 알 수 있다.\n"
      ],
      "metadata": {
        "id": "qJM10-SeDeXI"
      }
    },
    {
      "cell_type": "code",
      "source": [
        "img_eq = cv2.equalizeHist(img_gray)\n",
        "hist_eq = cv2.calcHist([img_eq], [0], None, [256], [0, 256])\n",
        "plt.plot(hist_eq)"
      ],
      "metadata": {
        "id": "6qOguLDG_azB"
      },
      "execution_count": null,
      "outputs": []
    },
    {
      "cell_type": "code",
      "source": [
        "plt.imshow(img_eq,cmap='gray')"
      ],
      "metadata": {
        "id": "o7MfbogxC2qO"
      },
      "execution_count": null,
      "outputs": []
    },
    {
      "cell_type": "markdown",
      "source": [
        "##CLAHE\n",
        "이 방법만 적용하게 되면 consolidation을 기준으로 보았을 때 병변을 구분해야되는 부위가 아닌 다른 부위도 함꼐 강조되어 별다른 효과는 볼 수 없다 \n"
      ],
      "metadata": {
        "id": "Twx1J230DsmZ"
      }
    },
    {
      "cell_type": "code",
      "source": [
        "#contrast limit을 2로 설정하고, grid의 사이즈는 (8,8)로 설정\n",
        "clahe = cv2.createCLAHE(clipLimit=2.0, tileGridSize=(8,8))\n",
        "img2 = clahe.apply(image)\n",
        "plt.imshow(img2,cmap='gray')"
      ],
      "metadata": {
        "id": "7jNL6iXdmUVB"
      },
      "execution_count": null,
      "outputs": []
    },
    {
      "cell_type": "code",
      "source": [
        "com_img = 255-img2"
      ],
      "metadata": {
        "id": "xx8h6uCcnJsR"
      },
      "execution_count": null,
      "outputs": []
    },
    {
      "cell_type": "code",
      "source": [
        "plt.imshow(com_img,cmap='gray')"
      ],
      "metadata": {
        "id": "wJzJJyAQEwm_"
      },
      "execution_count": null,
      "outputs": []
    },
    {
      "cell_type": "code",
      "source": [
        "img_eq_com = 255-img_eq\n",
        "plt.imshow(img_eq_com,cmap='gray')"
      ],
      "metadata": {
        "id": "V8ld3JlCFEXy"
      },
      "execution_count": null,
      "outputs": []
    },
    {
      "cell_type": "markdown",
      "source": [
        "## 감마 correction"
      ],
      "metadata": {
        "id": "8T9oOLqKcBOX"
      }
    },
    {
      "cell_type": "code",
      "source": [
        "gamma = img2.astype(np.float)\n",
        "gamma = ((gamma / 255) ** (1 / 0.5)) * 255\n",
        "gamma = gamma.astype(np.uint8)\n",
        "plt.imshow(gamma,cmap='gray')"
      ],
      "metadata": {
        "id": "8HlA9pBxcHKb"
      },
      "execution_count": null,
      "outputs": []
    },
    {
      "cell_type": "code",
      "source": [
        ""
      ],
      "metadata": {
        "id": "c89A5umBcVf3"
      },
      "execution_count": null,
      "outputs": []
    }
  ]
}