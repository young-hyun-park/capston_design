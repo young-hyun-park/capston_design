{
  "cells": [
    {
      "cell_type": "markdown",
      "metadata": {
        "id": "view-in-github",
        "colab_type": "text"
      },
      "source": [
        "<a href=\"https://colab.research.google.com/github/young-hyun-park/capston_design/blob/main/vgg16_multiclassclassfication.ipynb\" target=\"_parent\"><img src=\"https://colab.research.google.com/assets/colab-badge.svg\" alt=\"Open In Colab\"/></a>"
      ]
    },
    {
      "cell_type": "markdown",
      "metadata": {
        "id": "bBDtfS9yrW5a"
      },
      "source": [
        "## Import"
      ]
    },
    {
      "cell_type": "code",
      "execution_count": null,
      "metadata": {
        "id": "goD9iEktoLXJ"
      },
      "outputs": [],
      "source": [
        "import torch\n",
        "import numpy as np\n",
        "from glob import glob\n",
        "import pandas as pd\n",
        "import matplotlib.pyplot as plt\n",
        "from torch.utils.data import Dataset, DataLoader\n",
        "import torch.nn as nn\n",
        "import torch.optim as optim\n",
        "import torch.nn.functional as F\n",
        "from torchvision import datasets, transforms\n",
        "from torchsummary import summary\n",
        "from PIL import Image\n",
        "import os\n",
        "import re\n",
        "import nibabel as nib"
      ]
    },
    {
      "cell_type": "markdown",
      "metadata": {
        "id": "r6wKaDSCip-E"
      },
      "source": [
        "## Data Load"
      ]
    },
    {
      "cell_type": "code",
      "execution_count": null,
      "metadata": {
        "id": "ZZT94Zzx-ybX"
      },
      "outputs": [],
      "source": [
        "import zipfile\n",
        "zip_file = zipfile.ZipFile('/content/drive/Shareddrives/캡스톤 디자인1/multi_class_clahe_resize_224_.zip')\n",
        "zip_file.extractall('/content/datasets')\n",
        "zip_file.close()"
      ]
    },
    {
      "cell_type": "code",
      "execution_count": null,
      "metadata": {
        "id": "q9lawTI5-z8l"
      },
      "outputs": [],
      "source": [
        "PATH = '/content/datasets/multi_class_clahe_resize_224_/'\n",
        "from glob import glob\n",
        "file_data = glob(PATH+'*')"
      ]
    },
    {
      "cell_type": "code",
      "execution_count": null,
      "metadata": {
        "id": "n_uXhfOA0l3D"
      },
      "outputs": [],
      "source": [
        "image_path =list()\n",
        "for path in file_data:\n",
        "  infile_image_path = glob(path+'/*.png')\n",
        "  image_path+=infile_image_path\n",
        "image_path = sorted(image_path)"
      ]
    },
    {
      "cell_type": "code",
      "execution_count": null,
      "metadata": {
        "colab": {
          "base_uri": "https://localhost:8080/"
        },
        "id": "uAQ9b1k300wj",
        "outputId": "3576a651-0c58-4c91-c5f3-b48003e8d5f8"
      },
      "outputs": [
        {
          "output_type": "execute_result",
          "data": {
            "text/plain": [
              "55870"
            ]
          },
          "metadata": {},
          "execution_count": 5
        }
      ],
      "source": [
        "len(image_path)"
      ]
    },
    {
      "cell_type": "markdown",
      "metadata": {
        "id": "7MGDc7JXko4k"
      },
      "source": [
        "## Data Load"
      ]
    },
    {
      "cell_type": "code",
      "execution_count": null,
      "metadata": {
        "id": "jkWDvp5eMhpH"
      },
      "outputs": [],
      "source": [
        "import pandas as pd\n",
        "df= pd.read_csv('/content/datasets/processed_data_entry.csv')"
      ]
    },
    {
      "cell_type": "code",
      "execution_count": null,
      "metadata": {
        "colab": {
          "base_uri": "https://localhost:8080/",
          "height": 504
        },
        "id": "7wTKYYiw0_Z4",
        "outputId": "1adc5ba0-0827-436a-fd68-16917e4a8bf2"
      },
      "outputs": [
        {
          "output_type": "execute_result",
          "data": {
            "text/plain": [
              "            Image Index          Finding Labels  Follow-up #  Patient ID  \\\n",
              "0      00000001_000.png            Cardiomegaly            0           1   \n",
              "1      00000001_001.png  Cardiomegaly,Emphysema            1           1   \n",
              "2      00000001_002.png   Cardiomegaly,Effusion            2           1   \n",
              "3      00000002_000.png              No Finding            0           2   \n",
              "4      00000003_001.png                  Hernia            0           3   \n",
              "...                 ...                     ...          ...         ...   \n",
              "76661  00030801_001.png          Mass,Pneumonia            1       30801   \n",
              "76662  00030802_000.png              No Finding            0       30802   \n",
              "76663  00030803_000.png              No Finding            0       30803   \n",
              "76664  00030804_000.png              No Finding            0       30804   \n",
              "76665  00030805_000.png              No Finding            0       30805   \n",
              "\n",
              "       Patient Age Patient Gender View Position  OriginalImage[Width  Height]  \\\n",
              "0               57              M            PA                 2682     2749   \n",
              "1               58              M            PA                 2894     2729   \n",
              "2               58              M            PA                 2500     2048   \n",
              "3               80              M            PA                 2500     2048   \n",
              "4               74              F            PA                 2500     2048   \n",
              "...            ...            ...           ...                  ...      ...   \n",
              "76661           38              M            PA                 2048     2500   \n",
              "76662           28              M            PA                 2048     2500   \n",
              "76663           42              F            PA                 2048     2500   \n",
              "76664           29              F            PA                 2048     2500   \n",
              "76665           26              M            PA                 2048     2500   \n",
              "\n",
              "       OriginalImagePixelSpacing[x     y]  \n",
              "0                            0.143  0.143  \n",
              "1                            0.143  0.143  \n",
              "2                            0.168  0.168  \n",
              "3                            0.171  0.171  \n",
              "4                            0.168  0.168  \n",
              "...                            ...    ...  \n",
              "76661                        0.168  0.168  \n",
              "76662                        0.168  0.168  \n",
              "76663                        0.168  0.168  \n",
              "76664                        0.168  0.168  \n",
              "76665                        0.171  0.171  \n",
              "\n",
              "[76666 rows x 11 columns]"
            ],
            "text/html": [
              "\n",
              "  <div id=\"df-b116e819-4ca5-442a-bb37-c1a11bf53e87\">\n",
              "    <div class=\"colab-df-container\">\n",
              "      <div>\n",
              "<style scoped>\n",
              "    .dataframe tbody tr th:only-of-type {\n",
              "        vertical-align: middle;\n",
              "    }\n",
              "\n",
              "    .dataframe tbody tr th {\n",
              "        vertical-align: top;\n",
              "    }\n",
              "\n",
              "    .dataframe thead th {\n",
              "        text-align: right;\n",
              "    }\n",
              "</style>\n",
              "<table border=\"1\" class=\"dataframe\">\n",
              "  <thead>\n",
              "    <tr style=\"text-align: right;\">\n",
              "      <th></th>\n",
              "      <th>Image Index</th>\n",
              "      <th>Finding Labels</th>\n",
              "      <th>Follow-up #</th>\n",
              "      <th>Patient ID</th>\n",
              "      <th>Patient Age</th>\n",
              "      <th>Patient Gender</th>\n",
              "      <th>View Position</th>\n",
              "      <th>OriginalImage[Width</th>\n",
              "      <th>Height]</th>\n",
              "      <th>OriginalImagePixelSpacing[x</th>\n",
              "      <th>y]</th>\n",
              "    </tr>\n",
              "  </thead>\n",
              "  <tbody>\n",
              "    <tr>\n",
              "      <th>0</th>\n",
              "      <td>00000001_000.png</td>\n",
              "      <td>Cardiomegaly</td>\n",
              "      <td>0</td>\n",
              "      <td>1</td>\n",
              "      <td>57</td>\n",
              "      <td>M</td>\n",
              "      <td>PA</td>\n",
              "      <td>2682</td>\n",
              "      <td>2749</td>\n",
              "      <td>0.143</td>\n",
              "      <td>0.143</td>\n",
              "    </tr>\n",
              "    <tr>\n",
              "      <th>1</th>\n",
              "      <td>00000001_001.png</td>\n",
              "      <td>Cardiomegaly,Emphysema</td>\n",
              "      <td>1</td>\n",
              "      <td>1</td>\n",
              "      <td>58</td>\n",
              "      <td>M</td>\n",
              "      <td>PA</td>\n",
              "      <td>2894</td>\n",
              "      <td>2729</td>\n",
              "      <td>0.143</td>\n",
              "      <td>0.143</td>\n",
              "    </tr>\n",
              "    <tr>\n",
              "      <th>2</th>\n",
              "      <td>00000001_002.png</td>\n",
              "      <td>Cardiomegaly,Effusion</td>\n",
              "      <td>2</td>\n",
              "      <td>1</td>\n",
              "      <td>58</td>\n",
              "      <td>M</td>\n",
              "      <td>PA</td>\n",
              "      <td>2500</td>\n",
              "      <td>2048</td>\n",
              "      <td>0.168</td>\n",
              "      <td>0.168</td>\n",
              "    </tr>\n",
              "    <tr>\n",
              "      <th>3</th>\n",
              "      <td>00000002_000.png</td>\n",
              "      <td>No Finding</td>\n",
              "      <td>0</td>\n",
              "      <td>2</td>\n",
              "      <td>80</td>\n",
              "      <td>M</td>\n",
              "      <td>PA</td>\n",
              "      <td>2500</td>\n",
              "      <td>2048</td>\n",
              "      <td>0.171</td>\n",
              "      <td>0.171</td>\n",
              "    </tr>\n",
              "    <tr>\n",
              "      <th>4</th>\n",
              "      <td>00000003_001.png</td>\n",
              "      <td>Hernia</td>\n",
              "      <td>0</td>\n",
              "      <td>3</td>\n",
              "      <td>74</td>\n",
              "      <td>F</td>\n",
              "      <td>PA</td>\n",
              "      <td>2500</td>\n",
              "      <td>2048</td>\n",
              "      <td>0.168</td>\n",
              "      <td>0.168</td>\n",
              "    </tr>\n",
              "    <tr>\n",
              "      <th>...</th>\n",
              "      <td>...</td>\n",
              "      <td>...</td>\n",
              "      <td>...</td>\n",
              "      <td>...</td>\n",
              "      <td>...</td>\n",
              "      <td>...</td>\n",
              "      <td>...</td>\n",
              "      <td>...</td>\n",
              "      <td>...</td>\n",
              "      <td>...</td>\n",
              "      <td>...</td>\n",
              "    </tr>\n",
              "    <tr>\n",
              "      <th>76661</th>\n",
              "      <td>00030801_001.png</td>\n",
              "      <td>Mass,Pneumonia</td>\n",
              "      <td>1</td>\n",
              "      <td>30801</td>\n",
              "      <td>38</td>\n",
              "      <td>M</td>\n",
              "      <td>PA</td>\n",
              "      <td>2048</td>\n",
              "      <td>2500</td>\n",
              "      <td>0.168</td>\n",
              "      <td>0.168</td>\n",
              "    </tr>\n",
              "    <tr>\n",
              "      <th>76662</th>\n",
              "      <td>00030802_000.png</td>\n",
              "      <td>No Finding</td>\n",
              "      <td>0</td>\n",
              "      <td>30802</td>\n",
              "      <td>28</td>\n",
              "      <td>M</td>\n",
              "      <td>PA</td>\n",
              "      <td>2048</td>\n",
              "      <td>2500</td>\n",
              "      <td>0.168</td>\n",
              "      <td>0.168</td>\n",
              "    </tr>\n",
              "    <tr>\n",
              "      <th>76663</th>\n",
              "      <td>00030803_000.png</td>\n",
              "      <td>No Finding</td>\n",
              "      <td>0</td>\n",
              "      <td>30803</td>\n",
              "      <td>42</td>\n",
              "      <td>F</td>\n",
              "      <td>PA</td>\n",
              "      <td>2048</td>\n",
              "      <td>2500</td>\n",
              "      <td>0.168</td>\n",
              "      <td>0.168</td>\n",
              "    </tr>\n",
              "    <tr>\n",
              "      <th>76664</th>\n",
              "      <td>00030804_000.png</td>\n",
              "      <td>No Finding</td>\n",
              "      <td>0</td>\n",
              "      <td>30804</td>\n",
              "      <td>29</td>\n",
              "      <td>F</td>\n",
              "      <td>PA</td>\n",
              "      <td>2048</td>\n",
              "      <td>2500</td>\n",
              "      <td>0.168</td>\n",
              "      <td>0.168</td>\n",
              "    </tr>\n",
              "    <tr>\n",
              "      <th>76665</th>\n",
              "      <td>00030805_000.png</td>\n",
              "      <td>No Finding</td>\n",
              "      <td>0</td>\n",
              "      <td>30805</td>\n",
              "      <td>26</td>\n",
              "      <td>M</td>\n",
              "      <td>PA</td>\n",
              "      <td>2048</td>\n",
              "      <td>2500</td>\n",
              "      <td>0.171</td>\n",
              "      <td>0.171</td>\n",
              "    </tr>\n",
              "  </tbody>\n",
              "</table>\n",
              "<p>76666 rows × 11 columns</p>\n",
              "</div>\n",
              "      <button class=\"colab-df-convert\" onclick=\"convertToInteractive('df-b116e819-4ca5-442a-bb37-c1a11bf53e87')\"\n",
              "              title=\"Convert this dataframe to an interactive table.\"\n",
              "              style=\"display:none;\">\n",
              "        \n",
              "  <svg xmlns=\"http://www.w3.org/2000/svg\" height=\"24px\"viewBox=\"0 0 24 24\"\n",
              "       width=\"24px\">\n",
              "    <path d=\"M0 0h24v24H0V0z\" fill=\"none\"/>\n",
              "    <path d=\"M18.56 5.44l.94 2.06.94-2.06 2.06-.94-2.06-.94-.94-2.06-.94 2.06-2.06.94zm-11 1L8.5 8.5l.94-2.06 2.06-.94-2.06-.94L8.5 2.5l-.94 2.06-2.06.94zm10 10l.94 2.06.94-2.06 2.06-.94-2.06-.94-.94-2.06-.94 2.06-2.06.94z\"/><path d=\"M17.41 7.96l-1.37-1.37c-.4-.4-.92-.59-1.43-.59-.52 0-1.04.2-1.43.59L10.3 9.45l-7.72 7.72c-.78.78-.78 2.05 0 2.83L4 21.41c.39.39.9.59 1.41.59.51 0 1.02-.2 1.41-.59l7.78-7.78 2.81-2.81c.8-.78.8-2.07 0-2.86zM5.41 20L4 18.59l7.72-7.72 1.47 1.35L5.41 20z\"/>\n",
              "  </svg>\n",
              "      </button>\n",
              "      \n",
              "  <style>\n",
              "    .colab-df-container {\n",
              "      display:flex;\n",
              "      flex-wrap:wrap;\n",
              "      gap: 12px;\n",
              "    }\n",
              "\n",
              "    .colab-df-convert {\n",
              "      background-color: #E8F0FE;\n",
              "      border: none;\n",
              "      border-radius: 50%;\n",
              "      cursor: pointer;\n",
              "      display: none;\n",
              "      fill: #1967D2;\n",
              "      height: 32px;\n",
              "      padding: 0 0 0 0;\n",
              "      width: 32px;\n",
              "    }\n",
              "\n",
              "    .colab-df-convert:hover {\n",
              "      background-color: #E2EBFA;\n",
              "      box-shadow: 0px 1px 2px rgba(60, 64, 67, 0.3), 0px 1px 3px 1px rgba(60, 64, 67, 0.15);\n",
              "      fill: #174EA6;\n",
              "    }\n",
              "\n",
              "    [theme=dark] .colab-df-convert {\n",
              "      background-color: #3B4455;\n",
              "      fill: #D2E3FC;\n",
              "    }\n",
              "\n",
              "    [theme=dark] .colab-df-convert:hover {\n",
              "      background-color: #434B5C;\n",
              "      box-shadow: 0px 1px 3px 1px rgba(0, 0, 0, 0.15);\n",
              "      filter: drop-shadow(0px 1px 2px rgba(0, 0, 0, 0.3));\n",
              "      fill: #FFFFFF;\n",
              "    }\n",
              "  </style>\n",
              "\n",
              "      <script>\n",
              "        const buttonEl =\n",
              "          document.querySelector('#df-b116e819-4ca5-442a-bb37-c1a11bf53e87 button.colab-df-convert');\n",
              "        buttonEl.style.display =\n",
              "          google.colab.kernel.accessAllowed ? 'block' : 'none';\n",
              "\n",
              "        async function convertToInteractive(key) {\n",
              "          const element = document.querySelector('#df-b116e819-4ca5-442a-bb37-c1a11bf53e87');\n",
              "          const dataTable =\n",
              "            await google.colab.kernel.invokeFunction('convertToInteractive',\n",
              "                                                     [key], {});\n",
              "          if (!dataTable) return;\n",
              "\n",
              "          const docLinkHtml = 'Like what you see? Visit the ' +\n",
              "            '<a target=\"_blank\" href=https://colab.research.google.com/notebooks/data_table.ipynb>data table notebook</a>'\n",
              "            + ' to learn more about interactive tables.';\n",
              "          element.innerHTML = '';\n",
              "          dataTable['output_type'] = 'display_data';\n",
              "          await google.colab.output.renderOutput(dataTable, element);\n",
              "          const docLink = document.createElement('div');\n",
              "          docLink.innerHTML = docLinkHtml;\n",
              "          element.appendChild(docLink);\n",
              "        }\n",
              "      </script>\n",
              "    </div>\n",
              "  </div>\n",
              "  "
            ]
          },
          "metadata": {},
          "execution_count": 7
        }
      ],
      "source": [
        "df"
      ]
    },
    {
      "cell_type": "code",
      "execution_count": null,
      "metadata": {
        "id": "BbwUcI6U1Fx3"
      },
      "outputs": [],
      "source": [
        "value_series=df['Finding Labels'].value_counts()\n",
        "value_dict = dict()\n",
        "for i in range(len(value_series)):\n",
        "    index = df['Finding Labels'].value_counts().index[i].split(',')\n",
        "    if len(index) < 2: # dictionary data를 만들기 위해서 일단 단일의 질병만 가지고 있는 사람들을 dicstionary형태로 만듬.\n",
        "        value_dict[index[0]] =  df['Finding Labels'].value_counts()[i]\n",
        "label_list=sorted(list(value_dict.keys()))"
      ]
    },
    {
      "cell_type": "code",
      "execution_count": null,
      "metadata": {
        "colab": {
          "base_uri": "https://localhost:8080/"
        },
        "id": "TobEcdat1KxR",
        "outputId": "ef69dadb-f6ec-4b7d-f0c2-661c4a1072c4"
      },
      "outputs": [
        {
          "output_type": "execute_result",
          "data": {
            "text/plain": [
              "['Atelectasis',\n",
              " 'Cardiomegaly',\n",
              " 'Consolidation',\n",
              " 'Edema',\n",
              " 'Effusion',\n",
              " 'Emphysema',\n",
              " 'Fibrosis',\n",
              " 'Hernia',\n",
              " 'Infiltration',\n",
              " 'Mass',\n",
              " 'No Finding',\n",
              " 'Nodule',\n",
              " 'Pleural_Thickening',\n",
              " 'Pneumonia',\n",
              " 'Pneumothorax']"
            ]
          },
          "metadata": {},
          "execution_count": 9
        }
      ],
      "source": [
        "label_list"
      ]
    },
    {
      "cell_type": "code",
      "execution_count": null,
      "metadata": {
        "colab": {
          "base_uri": "https://localhost:8080/"
        },
        "id": "YG2pQJ51sBKd",
        "outputId": "f1da7057-4cbf-433c-ebaa-2d8d872fcafb"
      },
      "outputs": [
        {
          "output_type": "execute_result",
          "data": {
            "text/plain": [
              "{'Atelectasis': 0,\n",
              " 'Cardiomegaly': 1,\n",
              " 'Consolidation': 2,\n",
              " 'Edema': 3,\n",
              " 'Effusion': 4,\n",
              " 'Emphysema': 5,\n",
              " 'Fibrosis': 6,\n",
              " 'Hernia': 7,\n",
              " 'Infiltration': 8,\n",
              " 'Mass': 9,\n",
              " 'No Finding': 10,\n",
              " 'Nodule': 11,\n",
              " 'Pleural_Thickening': 12,\n",
              " 'Pneumonia': 13,\n",
              " 'Pneumothorax': 14}"
            ]
          },
          "metadata": {},
          "execution_count": 10
        }
      ],
      "source": [
        "class2idx = {cls:idx for idx, cls in enumerate(label_list)}\n",
        "class2idx"
      ]
    },
    {
      "cell_type": "code",
      "execution_count": null,
      "metadata": {
        "colab": {
          "base_uri": "https://localhost:8080/"
        },
        "id": "chAlKeWwxrRj",
        "outputId": "caf22157-5b6c-4e72-e3e2-c7dd73740300"
      },
      "outputs": [
        {
          "output_type": "execute_result",
          "data": {
            "text/plain": [
              "LabelEncoder()"
            ]
          },
          "metadata": {},
          "execution_count": 11
        }
      ],
      "source": [
        "from sklearn.preprocessing import OneHotEncoder,LabelEncoder\n",
        "encoder = LabelEncoder()\n",
        "encoder.fit(label_list)"
      ]
    },
    {
      "cell_type": "code",
      "execution_count": null,
      "metadata": {
        "id": "i-GGpk-A2s8O"
      },
      "outputs": [],
      "source": [
        "dummy_label=encoder.transform((df[df['Image Index']==image_path[0].split('/')[-1]]['Finding Labels'].values[0]).split(','))"
      ]
    },
    {
      "cell_type": "code",
      "execution_count": null,
      "metadata": {
        "colab": {
          "base_uri": "https://localhost:8080/"
        },
        "id": "gZ_FaKxixhlQ",
        "outputId": "ef552eb8-6bff-43c5-d024-6033734d2075"
      },
      "outputs": [
        {
          "output_type": "execute_result",
          "data": {
            "text/plain": [
              "array([1])"
            ]
          },
          "metadata": {},
          "execution_count": 13
        }
      ],
      "source": [
        "dummy_label"
      ]
    },
    {
      "cell_type": "code",
      "execution_count": null,
      "metadata": {
        "id": "RTHti2Q0_NHh"
      },
      "outputs": [],
      "source": [
        "class Train_Dataset(Dataset):\n",
        "    def __init__(self, data_path,transform = None):\n",
        "        self.data_path = data_path\n",
        "        self.transform = transform\n",
        "    def __len__(self):\n",
        "        return len(self.data_path)\n",
        "    def __getitem__(self,idx):\n",
        "        path = self.data_path[idx]\n",
        "        img = np.array(Image.open(path))\n",
        "        img = img[:,:,np.newaxis]\n",
        "        img = img/255\n",
        "        label = class2idx[df[df['Image Index']== path.split('/')[-1]]['Finding Labels'].values[0]]\n",
        "        if self.transform is not None:\n",
        "            transformed = self.transform(image=img)\n",
        "            image = transformed['image']\n",
        "        return image.float(), label"
      ]
    },
    {
      "cell_type": "code",
      "execution_count": null,
      "metadata": {
        "id": "K8PmaOQ5pF-3"
      },
      "outputs": [],
      "source": [
        "class val_Dataset(Dataset):\n",
        "    def __init__(self, data_path,transform = None):\n",
        "        self.data_path = data_path\n",
        "        self.transform = transform\n",
        "    def __len__(self):\n",
        "        return len(self.data_path)\n",
        "    def __getitem__(self,idx):\n",
        "        path = self.data_path[idx]\n",
        "        img = np.array(Image.open(path))\n",
        "        img = img[:,:,np.newaxis]\n",
        "        img = img/255\n",
        "        label =  class2idx[df[df['Image Index']== path.split('/')[-1]]['Finding Labels'].values[0]]\n",
        "        if self.transform is not None:\n",
        "            transformed = self.transform(image=img)\n",
        "            image = transformed['image']\n",
        "        return image.float(), label"
      ]
    },
    {
      "cell_type": "code",
      "execution_count": null,
      "metadata": {
        "colab": {
          "base_uri": "https://localhost:8080/",
          "height": 35
        },
        "id": "47NUSt-3sz22",
        "outputId": "08654683-220f-4c56-9244-7533be81967c"
      },
      "outputs": [
        {
          "output_type": "execute_result",
          "data": {
            "text/plain": [
              "'Cardiomegaly'"
            ],
            "application/vnd.google.colaboratory.intrinsic+json": {
              "type": "string"
            }
          },
          "metadata": {},
          "execution_count": 16
        }
      ],
      "source": [
        "df[df['Image Index']== image_path[0].split('/')[-1]]['Finding Labels'].values[0]"
      ]
    },
    {
      "cell_type": "code",
      "execution_count": null,
      "metadata": {
        "id": "hs042d2Lb2sN",
        "colab": {
          "base_uri": "https://localhost:8080/"
        },
        "outputId": "b40cfb22-5375-4bb3-e408-49856076d83c"
      },
      "outputs": [
        {
          "output_type": "stream",
          "name": "stdout",
          "text": [
            "Requirement already satisfied: albumentations==0.4.6 in /usr/local/lib/python3.7/dist-packages (0.4.6)\n",
            "Requirement already satisfied: imgaug>=0.4.0 in /usr/local/lib/python3.7/dist-packages (from albumentations==0.4.6) (0.4.0)\n",
            "Requirement already satisfied: PyYAML in /usr/local/lib/python3.7/dist-packages (from albumentations==0.4.6) (3.13)\n",
            "Requirement already satisfied: opencv-python>=4.1.1 in /usr/local/lib/python3.7/dist-packages (from albumentations==0.4.6) (4.1.2.30)\n",
            "Requirement already satisfied: numpy>=1.11.1 in /usr/local/lib/python3.7/dist-packages (from albumentations==0.4.6) (1.21.5)\n",
            "Requirement already satisfied: scipy in /usr/local/lib/python3.7/dist-packages (from albumentations==0.4.6) (1.4.1)\n",
            "Requirement already satisfied: Pillow in /usr/local/lib/python3.7/dist-packages (from imgaug>=0.4.0->albumentations==0.4.6) (7.1.2)\n",
            "Requirement already satisfied: scikit-image>=0.14.2 in /usr/local/lib/python3.7/dist-packages (from imgaug>=0.4.0->albumentations==0.4.6) (0.18.3)\n",
            "Requirement already satisfied: Shapely in /usr/local/lib/python3.7/dist-packages (from imgaug>=0.4.0->albumentations==0.4.6) (1.8.1.post1)\n",
            "Requirement already satisfied: matplotlib in /usr/local/lib/python3.7/dist-packages (from imgaug>=0.4.0->albumentations==0.4.6) (3.2.2)\n",
            "Requirement already satisfied: imageio in /usr/local/lib/python3.7/dist-packages (from imgaug>=0.4.0->albumentations==0.4.6) (2.4.1)\n",
            "Requirement already satisfied: six in /usr/local/lib/python3.7/dist-packages (from imgaug>=0.4.0->albumentations==0.4.6) (1.15.0)\n",
            "Requirement already satisfied: tifffile>=2019.7.26 in /usr/local/lib/python3.7/dist-packages (from scikit-image>=0.14.2->imgaug>=0.4.0->albumentations==0.4.6) (2021.11.2)\n",
            "Requirement already satisfied: networkx>=2.0 in /usr/local/lib/python3.7/dist-packages (from scikit-image>=0.14.2->imgaug>=0.4.0->albumentations==0.4.6) (2.6.3)\n",
            "Requirement already satisfied: PyWavelets>=1.1.1 in /usr/local/lib/python3.7/dist-packages (from scikit-image>=0.14.2->imgaug>=0.4.0->albumentations==0.4.6) (1.2.0)\n",
            "Requirement already satisfied: kiwisolver>=1.0.1 in /usr/local/lib/python3.7/dist-packages (from matplotlib->imgaug>=0.4.0->albumentations==0.4.6) (1.3.2)\n",
            "Requirement already satisfied: pyparsing!=2.0.4,!=2.1.2,!=2.1.6,>=2.0.1 in /usr/local/lib/python3.7/dist-packages (from matplotlib->imgaug>=0.4.0->albumentations==0.4.6) (3.0.7)\n",
            "Requirement already satisfied: python-dateutil>=2.1 in /usr/local/lib/python3.7/dist-packages (from matplotlib->imgaug>=0.4.0->albumentations==0.4.6) (2.8.2)\n",
            "Requirement already satisfied: cycler>=0.10 in /usr/local/lib/python3.7/dist-packages (from matplotlib->imgaug>=0.4.0->albumentations==0.4.6) (0.11.0)\n"
          ]
        }
      ],
      "source": [
        "#!pip install --upgrade --force-reinstall --no-deps albumentations\n",
        "#!pip install albumentations==0.4.6"
      ]
    },
    {
      "cell_type": "code",
      "execution_count": null,
      "metadata": {
        "id": "zjsRkywlpzRh"
      },
      "outputs": [],
      "source": [
        "import albumentations as A                                                                           \n",
        "from albumentations.pytorch import ToTensorV2"
      ]
    },
    {
      "cell_type": "code",
      "execution_count": null,
      "metadata": {
        "id": "6ps3vqpTfykw"
      },
      "outputs": [],
      "source": [
        "data_transforms = {\n",
        "    'train': A.Compose(\n",
        "    [\n",
        "      ToTensorV2()\n",
        "     ]\n",
        "    ),\n",
        "    'val': A.Compose(\n",
        "        [\n",
        "     ToTensorV2()\n",
        "                            ]\n",
        "                           ),\n",
        "}"
      ]
    },
    {
      "cell_type": "code",
      "execution_count": null,
      "metadata": {
        "id": "GJc4KaBWjQQi"
      },
      "outputs": [],
      "source": [
        "from sklearn.model_selection import train_test_split\n",
        "train_path, val_path = train_test_split(image_path,test_size = 0.2,random_state = 42)"
      ]
    },
    {
      "cell_type": "code",
      "execution_count": null,
      "metadata": {
        "id": "2PMkgsM5iB_D"
      },
      "outputs": [],
      "source": [
        "# Top level data directory. Here we assume the format of the directory conforms\n",
        "#   to the ImageFolder structure\n",
        "\n",
        "# Models to choose from [resnet, alexnet, vgg, squeezenet, densenet, inception]\n",
        "\n",
        "# Number of classes in the dataset\n",
        "num_classes = 15\n",
        "\n",
        "# Batch size for training (change depending on how much memory you have)\n",
        "batch_size = 16\n",
        "\n",
        "# Number of epochs to train for\n",
        "num_epochs = 30\n",
        "\n",
        "# Flag for feature extracting. When False, we finetune the whole model,\n",
        "#   when True we only update the reshaped layer params\n",
        "feature_extract = True"
      ]
    },
    {
      "cell_type": "code",
      "execution_count": null,
      "metadata": {
        "id": "4g3IdrnAk_dk"
      },
      "outputs": [],
      "source": [
        "train_data = Train_Dataset(train_path,transform = data_transforms['train'])\n",
        "val_data = val_Dataset(val_path,transform =  data_transforms['val'])"
      ]
    },
    {
      "cell_type": "code",
      "execution_count": null,
      "metadata": {
        "id": "fe0o3j_QgBQ3"
      },
      "outputs": [],
      "source": [
        "image_datasets = {'train' : train_data , 'val' : val_data}\n",
        "# Create training and validation dataloaders\n",
        "dataloaders_dict = {x: torch.utils.data.DataLoader(image_datasets[x], batch_size=batch_size, shuffle=True) for x in ['train', 'val']}\n",
        "# Detect if we have a GPU available\n",
        "device = torch.device(\"cuda:0\" if torch.cuda.is_available() else \"cpu\")"
      ]
    },
    {
      "cell_type": "markdown",
      "metadata": {
        "id": "Y6M3XBpyrjto"
      },
      "source": [
        "## Model"
      ]
    },
    {
      "cell_type": "code",
      "execution_count": null,
      "metadata": {
        "id": "sfqjEbZ-CIKf"
      },
      "outputs": [],
      "source": [
        "from __future__ import print_function\n",
        "from __future__ import division\n",
        "import torch\n",
        "import torch.nn as nn\n",
        "import torch.optim as optim\n",
        "import numpy as np\n",
        "import torchvision\n",
        "from torchvision import datasets, models, transforms\n",
        "import matplotlib.pyplot as plt\n",
        "import time\n",
        "import os\n",
        "import copy"
      ]
    },
    {
      "cell_type": "code",
      "execution_count": null,
      "metadata": {
        "id": "p5C6H7Dh6Sgs"
      },
      "outputs": [],
      "source": [
        "class Net(nn.Module):\n",
        "    def __init__(self):\n",
        "        super(Net, self).__init__()\n",
        "        self.conv = nn.Sequential(\n",
        "            #3 224 128\n",
        "            nn.Conv2d(1, 64, 3, padding=1),nn.LeakyReLU(0.2),\n",
        "            nn.Conv2d(64, 64, 3, padding=1),nn.LeakyReLU(0.2),\n",
        "            nn.MaxPool2d(2, 2),\n",
        "            #64 112 64\n",
        "            nn.Conv2d(64, 128, 3, padding=1),nn.LeakyReLU(0.2),\n",
        "            nn.Conv2d(128, 128, 3, padding=1),nn.LeakyReLU(0.2),\n",
        "            nn.MaxPool2d(2, 2),\n",
        "            #128 56 32\n",
        "            nn.Conv2d(128, 256, 3, padding=1),nn.LeakyReLU(0.2),\n",
        "            nn.Conv2d(256, 256, 3, padding=1),nn.LeakyReLU(0.2),\n",
        "            nn.Conv2d(256, 256, 3, padding=1),nn.LeakyReLU(0.2),\n",
        "            nn.MaxPool2d(2, 2),\n",
        "            #256 28 16\n",
        "            nn.Conv2d(256, 512, 3, padding=1),nn.LeakyReLU(0.2),\n",
        "            nn.Conv2d(512, 512, 3, padding=1),nn.LeakyReLU(0.2),\n",
        "            nn.Conv2d(512, 512, 3, padding=1),nn.LeakyReLU(0.2),\n",
        "            nn.MaxPool2d(2, 2),\n",
        "            #512 14 8\n",
        "            nn.Conv2d(512, 512, 3, padding=1),nn.LeakyReLU(0.2),\n",
        "            nn.Conv2d(512, 512, 3, padding=1),nn.LeakyReLU(0.2),\n",
        "            nn.Conv2d(512, 512, 3, padding=1),nn.LeakyReLU(0.2),\n",
        "            nn.MaxPool2d(2, 2)\n",
        "        )\n",
        "        #512 7 4\n",
        "\n",
        "        self.avg_pool = nn.AvgPool2d(7)\n",
        "        #512 1 1\n",
        "        self.fc1 = nn.Linear(512,512)\n",
        "        self.fc2 = nn.Linear(512,256)\n",
        "        self.fc3 = nn.Linear(256,15)\n",
        "\n",
        "    def forward(self, x):\n",
        "        #print(x.size())\n",
        "        features = self.conv(x)\n",
        "        #print(features.size())\n",
        "        x = self.avg_pool(features)\n",
        "        #print(avg_pool.size())\n",
        "        x = x.view(features.size(0), -1)\n",
        "        #print(flatten.size())\n",
        "        x = self.fc1(x)\n",
        "        x= nn.ReLU(inplace=True)(x)\n",
        "        x = self.fc2(x)\n",
        "        x= nn.ReLU(inplace=True)(x)\n",
        "        x = self.fc3(x)        \n",
        "        #x = self.softmax(x)\n",
        "        return x"
      ]
    },
    {
      "cell_type": "code",
      "execution_count": null,
      "metadata": {
        "id": "m3FkWZ-D8ztG"
      },
      "outputs": [],
      "source": [
        "from __future__ import print_function\n",
        "from __future__ import division\n",
        "import torch\n",
        "import torch.nn as nn\n",
        "import torch.optim as optim\n",
        "import numpy as np\n",
        "import torchvision\n",
        "from torchvision import datasets, models, transforms\n",
        "import matplotlib.pyplot as plt\n",
        "import time\n",
        "import os\n",
        "import copy"
      ]
    },
    {
      "cell_type": "code",
      "execution_count": null,
      "metadata": {
        "id": "gouR33TpCExU"
      },
      "outputs": [],
      "source": [
        "def train_model(model, dataloaders, criterion, optimizer, num_epochs=25, is_inception=False):\n",
        "    since = time.time()\n",
        "\n",
        "    val_acc_history = []\n",
        "    train_acc_history = []\n",
        "    train_loss_hist = []\n",
        "    val_loss_hist = []\n",
        "\n",
        "    best_model_wts = copy.deepcopy(model.state_dict())\n",
        "    best_acc = 0.0\n",
        "\n",
        "    for epoch in range(num_epochs):\n",
        "        print('Epoch {}/{}'.format(epoch, num_epochs - 1))\n",
        "        print('-' * 10)\n",
        "\n",
        "        # Each epoch has a training and validation phase\n",
        "        for phase in ['train', 'val']:\n",
        "            start = time.time()\n",
        "            if phase == 'train':\n",
        "                model.train()  # Set model to training mode\n",
        "            else:\n",
        "                model.eval()   # Set model to evaluate mode\n",
        "\n",
        "            running_loss = 0.0\n",
        "            running_corrects = 0\n",
        "\n",
        "            # Iterate over data.\n",
        "            for inputs, labels in dataloaders[phase]:\n",
        "                inputs = inputs.to(device = device, dtype = torch.float32)\n",
        "                labels = labels.to(device = device)\n",
        "                # zero the parameter gradients\n",
        "                optimizer.zero_grad()\n",
        "\n",
        "                # forward\n",
        "                # track history if only in train\n",
        "                with torch.set_grad_enabled(phase == 'train'):\n",
        "                    # Get model outputs and calculate loss\n",
        "                    # Special case for inception because in training it has an auxiliary output. In train\n",
        "                    #   mode we calculate the loss by summing the final output and the auxiliary output\n",
        "                    #   but in testing we only consider the final output.\n",
        "                    if phase == 'train':\n",
        "                        # From https://discuss.pytorch.org/t/how-to-optimize-inception-model-with-auxiliary-classifiers/7958\n",
        "                        outputs = model(inputs) \n",
        "                        loss = criterion(outputs,labels)\n",
        "                        \n",
        "\n",
        "                    else:\n",
        "                        outputs = model(inputs)\n",
        "                        loss = criterion(outputs, labels)\n",
        "\n",
        "                    _, preds = torch.max(outputs, 1)\n",
        "\n",
        "                    # backward + optimize only if in training phase\n",
        "                    if phase == 'train':\n",
        "                        loss.backward()\n",
        "                        optimizer.step()\n",
        "\n",
        "                # statistics\n",
        "                running_loss += loss.item() * inputs.size(0)\n",
        "                running_corrects += torch.sum(preds == labels.data)\n",
        "\n",
        "            epoch_loss = running_loss / len(dataloaders[phase].dataset)\n",
        "            epoch_acc = running_corrects.double() / len(dataloaders[phase].dataset)\n",
        "            if phase == 'train':\n",
        "              train_acc_history.append(epoch_acc)\n",
        "              train_loss_hist.append(epoch_loss)\n",
        "\n",
        "            print('{} Loss: {:.4f} Acc: {:.4f}, Time : {:.4f}'.format(phase, epoch_loss, epoch_acc, time.time()-start))\n",
        "\n",
        "            # deep copy the model\n",
        "            if phase == 'val' and epoch_acc > best_acc:\n",
        "                best_acc = epoch_acc\n",
        "                best_model_wts = copy.deepcopy(model.state_dict())\n",
        "            if phase == 'val':\n",
        "                val_acc_history.append(epoch_acc)\n",
        "                val_loss_hist.append(epoch_loss)\n",
        "\n",
        "        print()\n",
        "\n",
        "    time_elapsed = time.time() - since\n",
        "    print('Training complete in {:.0f}m {:.0f}s'.format(time_elapsed // 60, time_elapsed % 60))\n",
        "    print('Best val Acc: {:4f}'.format(best_acc))\n",
        "\n",
        "    # load best model weights\n",
        "    model.load_state_dict(best_model_wts)\n",
        "    return model, train_loss_hist, train_acc_history, val_loss_hist ,val_acc_history"
      ]
    },
    {
      "cell_type": "code",
      "execution_count": null,
      "metadata": {
        "id": "y5vk_l9Q7kCy"
      },
      "outputs": [],
      "source": [
        "model_ft = Net()"
      ]
    },
    {
      "cell_type": "code",
      "execution_count": null,
      "metadata": {
        "colab": {
          "base_uri": "https://localhost:8080/"
        },
        "id": "HpK1P0JhsLZr",
        "outputId": "85b2c2f0-d480-4c15-83df-467cce398ec3"
      },
      "outputs": [
        {
          "output_type": "stream",
          "name": "stdout",
          "text": [
            "----------------------------------------------------------------\n",
            "        Layer (type)               Output Shape         Param #\n",
            "================================================================\n",
            "            Conv2d-1         [-1, 64, 224, 224]             640\n",
            "         LeakyReLU-2         [-1, 64, 224, 224]               0\n",
            "            Conv2d-3         [-1, 64, 224, 224]          36,928\n",
            "         LeakyReLU-4         [-1, 64, 224, 224]               0\n",
            "         MaxPool2d-5         [-1, 64, 112, 112]               0\n",
            "            Conv2d-6        [-1, 128, 112, 112]          73,856\n",
            "         LeakyReLU-7        [-1, 128, 112, 112]               0\n",
            "            Conv2d-8        [-1, 128, 112, 112]         147,584\n",
            "         LeakyReLU-9        [-1, 128, 112, 112]               0\n",
            "        MaxPool2d-10          [-1, 128, 56, 56]               0\n",
            "           Conv2d-11          [-1, 256, 56, 56]         295,168\n",
            "        LeakyReLU-12          [-1, 256, 56, 56]               0\n",
            "           Conv2d-13          [-1, 256, 56, 56]         590,080\n",
            "        LeakyReLU-14          [-1, 256, 56, 56]               0\n",
            "           Conv2d-15          [-1, 256, 56, 56]         590,080\n",
            "        LeakyReLU-16          [-1, 256, 56, 56]               0\n",
            "        MaxPool2d-17          [-1, 256, 28, 28]               0\n",
            "           Conv2d-18          [-1, 512, 28, 28]       1,180,160\n",
            "        LeakyReLU-19          [-1, 512, 28, 28]               0\n",
            "           Conv2d-20          [-1, 512, 28, 28]       2,359,808\n",
            "        LeakyReLU-21          [-1, 512, 28, 28]               0\n",
            "           Conv2d-22          [-1, 512, 28, 28]       2,359,808\n",
            "        LeakyReLU-23          [-1, 512, 28, 28]               0\n",
            "        MaxPool2d-24          [-1, 512, 14, 14]               0\n",
            "           Conv2d-25          [-1, 512, 14, 14]       2,359,808\n",
            "        LeakyReLU-26          [-1, 512, 14, 14]               0\n",
            "           Conv2d-27          [-1, 512, 14, 14]       2,359,808\n",
            "        LeakyReLU-28          [-1, 512, 14, 14]               0\n",
            "           Conv2d-29          [-1, 512, 14, 14]       2,359,808\n",
            "        LeakyReLU-30          [-1, 512, 14, 14]               0\n",
            "        MaxPool2d-31            [-1, 512, 7, 7]               0\n",
            "        AvgPool2d-32            [-1, 512, 1, 1]               0\n",
            "           Linear-33                  [-1, 512]         262,656\n",
            "           Linear-34                  [-1, 256]         131,328\n",
            "           Linear-35                   [-1, 15]           3,855\n",
            "================================================================\n",
            "Total params: 15,111,375\n",
            "Trainable params: 15,111,375\n",
            "Non-trainable params: 0\n",
            "----------------------------------------------------------------\n",
            "Input size (MB): 0.19\n",
            "Forward/backward pass size (MB): 218.40\n",
            "Params size (MB): 57.65\n",
            "Estimated Total Size (MB): 276.24\n",
            "----------------------------------------------------------------\n"
          ]
        }
      ],
      "source": [
        "summary(model_ft.to('cuda'),(1,224,224))"
      ]
    },
    {
      "cell_type": "code",
      "execution_count": null,
      "metadata": {
        "id": "6GPv8m22FaN3"
      },
      "outputs": [],
      "source": [
        "model_ft = model_ft.to(device)\n",
        "\n",
        "\n",
        "# Observe that all parameters are being optimized\n",
        "optimizer_ft = optim.SGD(model_ft.parameters(),lr=0.001, momentum=0.9) # 업데이트 할 파라미터만 넣어준다."
      ]
    },
    {
      "cell_type": "code",
      "execution_count": null,
      "metadata": {
        "colab": {
          "base_uri": "https://localhost:8080/",
          "height": 764
        },
        "id": "utH7pN1VD-rX",
        "outputId": "d10d7dce-4f4b-4a5d-9d4a-d6e004653be4"
      },
      "outputs": [
        {
          "output_type": "stream",
          "name": "stdout",
          "text": [
            "Epoch 0/29\n",
            "----------\n",
            "train Loss: 1.9815 Acc: 0.4410, Time : 649.5005\n",
            "val Loss: 1.9004 Acc: 0.4495, Time : 102.9123\n",
            "\n",
            "Epoch 1/29\n",
            "----------\n",
            "train Loss: 1.9047 Acc: 0.4449, Time : 611.2864\n",
            "val Loss: 1.8992 Acc: 0.4495, Time : 101.4114\n",
            "\n",
            "Epoch 2/29\n",
            "----------\n",
            "train Loss: 1.9041 Acc: 0.4449, Time : 606.7671\n",
            "val Loss: 1.8974 Acc: 0.4495, Time : 100.7134\n",
            "\n",
            "Epoch 3/29\n",
            "----------\n",
            "train Loss: 1.9040 Acc: 0.4449, Time : 608.6916\n",
            "val Loss: 1.8984 Acc: 0.4495, Time : 99.9570\n",
            "\n",
            "Epoch 4/29\n",
            "----------\n"
          ]
        },
        {
          "output_type": "error",
          "ename": "KeyboardInterrupt",
          "evalue": "ignored",
          "traceback": [
            "\u001b[0;31m---------------------------------------------------------------------------\u001b[0m",
            "\u001b[0;31mKeyboardInterrupt\u001b[0m                         Traceback (most recent call last)",
            "\u001b[0;32m<ipython-input-31-e8cf6cf2ec87>\u001b[0m in \u001b[0;36m<module>\u001b[0;34m()\u001b[0m\n\u001b[1;32m      2\u001b[0m \u001b[0;34m\u001b[0m\u001b[0m\n\u001b[1;32m      3\u001b[0m \u001b[0;31m# Train and evaluate\u001b[0m\u001b[0;34m\u001b[0m\u001b[0;34m\u001b[0m\u001b[0;34m\u001b[0m\u001b[0m\n\u001b[0;32m----> 4\u001b[0;31m \u001b[0mmodel_ft\u001b[0m\u001b[0;34m,\u001b[0m \u001b[0mtrain_loss\u001b[0m\u001b[0;34m,\u001b[0m \u001b[0mtrain_acc\u001b[0m\u001b[0;34m,\u001b[0m \u001b[0mval_loss\u001b[0m\u001b[0;34m,\u001b[0m \u001b[0mval_acc\u001b[0m  \u001b[0;34m=\u001b[0m \u001b[0mtrain_model\u001b[0m\u001b[0;34m(\u001b[0m\u001b[0mmodel_ft\u001b[0m\u001b[0;34m,\u001b[0m \u001b[0mdataloaders_dict\u001b[0m\u001b[0;34m,\u001b[0m \u001b[0mcriterion\u001b[0m\u001b[0;34m,\u001b[0m \u001b[0moptimizer_ft\u001b[0m\u001b[0;34m,\u001b[0m \u001b[0mnum_epochs\u001b[0m\u001b[0;34m=\u001b[0m\u001b[0mnum_epochs\u001b[0m\u001b[0;34m,\u001b[0m \u001b[0mis_inception\u001b[0m\u001b[0;34m=\u001b[0m \u001b[0;32mTrue\u001b[0m\u001b[0;34m)\u001b[0m\u001b[0;34m\u001b[0m\u001b[0;34m\u001b[0m\u001b[0m\n\u001b[0m",
            "\u001b[0;32m<ipython-input-27-ccf0c24f94ef>\u001b[0m in \u001b[0;36mtrain_model\u001b[0;34m(model, dataloaders, criterion, optimizer, num_epochs, is_inception)\u001b[0m\n\u001b[1;32m     57\u001b[0m \u001b[0;34m\u001b[0m\u001b[0m\n\u001b[1;32m     58\u001b[0m                 \u001b[0;31m# statistics\u001b[0m\u001b[0;34m\u001b[0m\u001b[0;34m\u001b[0m\u001b[0;34m\u001b[0m\u001b[0m\n\u001b[0;32m---> 59\u001b[0;31m                 \u001b[0mrunning_loss\u001b[0m \u001b[0;34m+=\u001b[0m \u001b[0mloss\u001b[0m\u001b[0;34m.\u001b[0m\u001b[0mitem\u001b[0m\u001b[0;34m(\u001b[0m\u001b[0;34m)\u001b[0m \u001b[0;34m*\u001b[0m \u001b[0minputs\u001b[0m\u001b[0;34m.\u001b[0m\u001b[0msize\u001b[0m\u001b[0;34m(\u001b[0m\u001b[0;36m0\u001b[0m\u001b[0;34m)\u001b[0m\u001b[0;34m\u001b[0m\u001b[0;34m\u001b[0m\u001b[0m\n\u001b[0m\u001b[1;32m     60\u001b[0m                 \u001b[0mrunning_corrects\u001b[0m \u001b[0;34m+=\u001b[0m \u001b[0mtorch\u001b[0m\u001b[0;34m.\u001b[0m\u001b[0msum\u001b[0m\u001b[0;34m(\u001b[0m\u001b[0mpreds\u001b[0m \u001b[0;34m==\u001b[0m \u001b[0mlabels\u001b[0m\u001b[0;34m.\u001b[0m\u001b[0mdata\u001b[0m\u001b[0;34m)\u001b[0m\u001b[0;34m\u001b[0m\u001b[0;34m\u001b[0m\u001b[0m\n\u001b[1;32m     61\u001b[0m \u001b[0;34m\u001b[0m\u001b[0m\n",
            "\u001b[0;31mKeyboardInterrupt\u001b[0m: "
          ]
        }
      ],
      "source": [
        "criterion = nn.CrossEntropyLoss()\n",
        "\n",
        "# Train and evaluate\n",
        "model_ft, train_loss, train_acc, val_loss, val_acc  = train_model(model_ft, dataloaders_dict, criterion, optimizer_ft, num_epochs=num_epochs, is_inception= True)"
      ]
    },
    {
      "cell_type": "code",
      "execution_count": null,
      "metadata": {
        "id": "DdgUEYt0HQjE"
      },
      "outputs": [],
      "source": [
        "plt.plot(train_loss)\n",
        "plt.plot(val_loss)\n",
        "plt.title('Vgg16 Loss', fontsize = 15)\n",
        "plt.xlabel('Epoch', fontsize = 15)\n",
        "plt.ylabel('Loss', fontsize = 15)\n",
        "plt.ylim(0,1)\n",
        "plt.legend(['train','test'], loc='upper left')\n",
        "plt.show()"
      ]
    },
    {
      "cell_type": "code",
      "execution_count": null,
      "metadata": {
        "id": "jWj469HeMans"
      },
      "outputs": [],
      "source": [
        "train_accuracy = []\n",
        "val_accuracy = []"
      ]
    },
    {
      "cell_type": "code",
      "execution_count": null,
      "metadata": {
        "id": "6uW6--4SNSak"
      },
      "outputs": [],
      "source": [
        "val_acc[0].to('cpu').numpy()"
      ]
    },
    {
      "cell_type": "code",
      "execution_count": null,
      "metadata": {
        "id": "iCgIB62sO8x8"
      },
      "outputs": [],
      "source": [
        "for i in range(len(train_acc)):\n",
        "  train_accuracy.append(train_acc[i].to('cpu').numpy())\n",
        "for i in range(len(val_acc)):\n",
        "  val_accuracy.append(val_acc[i].to('cpu').numpy())"
      ]
    },
    {
      "cell_type": "code",
      "execution_count": null,
      "metadata": {
        "id": "GTJpCyCMQj6-"
      },
      "outputs": [],
      "source": [
        "plt.plot(train_accuracy)\n",
        "plt.plot(val_accuracy)\n",
        "plt.title('Vgg16 Accuracy', fontsize = 15)\n",
        "plt.xlabel('Epoch', fontsize = 15)\n",
        "plt.ylabel('Accuracy', fontsize = 15)\n",
        "plt.ylim(0,1)\n",
        "plt.legend(['train','test'], loc='upper left')\n",
        "plt.show()"
      ]
    },
    {
      "cell_type": "code",
      "execution_count": null,
      "metadata": {
        "id": "ee4qZ887MHeI"
      },
      "outputs": [],
      "source": [
        "train_acc[0].to('cpu').numpy()"
      ]
    },
    {
      "cell_type": "code",
      "execution_count": null,
      "metadata": {
        "id": "gJo_jNbrMzO3"
      },
      "outputs": [],
      "source": [
        "train_accuracy"
      ]
    },
    {
      "cell_type": "code",
      "execution_count": null,
      "metadata": {
        "id": "Gahod6pFM21C"
      },
      "outputs": [],
      "source": [
        "torch.save(model_ft, '/content/drive/Shareddrives/캡스톤 디자인1/codes/vgg16_multiclassclassfication_model')"
      ]
    },
    {
      "cell_type": "code",
      "execution_count": null,
      "metadata": {
        "id": "lvU7IXQTWbt7"
      },
      "outputs": [],
      "source": [
        "model_ft = torch.load('/content/drive/Shareddrives/캡스톤 디자인1/codes/vgg16_multiclassclassfication_model')"
      ]
    },
    {
      "cell_type": "code",
      "source": [
        "class test_Dataset(Dataset):\n",
        "    def __init__(self, data_path,transform = None):\n",
        "        self.data_path = data_path\n",
        "        self.transform = transform\n",
        "    def __len__(self):\n",
        "        return len(self.data_path)\n",
        "    def __getitem__(self,idx):\n",
        "        path = self.data_path[idx]\n",
        "        img = np.array(Image.open(path))\n",
        "        img = img[:,:,np.newaxis]\n",
        "        img = img/255\n",
        "        label =  class2idx[df[df['Image Index']== path.split('/')[-1]]['Finding Labels'].values[0]]\n",
        "        if self.transform is not None:\n",
        "            transformed = self.transform(image=img)\n",
        "            image = transformed['image']\n",
        "        return image.float(), label"
      ],
      "metadata": {
        "id": "v8GGBWFXJ0Wu"
      },
      "execution_count": null,
      "outputs": []
    },
    {
      "cell_type": "code",
      "source": [
        "data_transforms_test = A.Compose(\n",
        "        [\n",
        "     ToTensorV2()\n",
        "                            ]\n",
        "                           )\n"
      ],
      "metadata": {
        "id": "28Y0MRroJ1Mj"
      },
      "execution_count": null,
      "outputs": []
    },
    {
      "cell_type": "code",
      "source": [
        "test_data = test_Dataset(val_path,transform = data_transforms_test)\n",
        "test_loader = torch.utils.data.DataLoader(test_data, batch_size=batch_size, shuffle= False)"
      ],
      "metadata": {
        "id": "gChfEB7KJ-n8"
      },
      "execution_count": null,
      "outputs": []
    },
    {
      "cell_type": "code",
      "execution_count": null,
      "metadata": {
        "id": "97PpctyCtQCe",
        "colab": {
          "base_uri": "https://localhost:8080/"
        },
        "outputId": "3e686b60-4bb5-47c2-b45d-566728905f53"
      },
      "outputs": [
        {
          "output_type": "stream",
          "name": "stdout",
          "text": [
            "Test Loss: 1.8983 Acc: 0.4495, Time : 102.9870\n"
          ]
        }
      ],
      "source": [
        "running_loss = 0.0\n",
        "running_corrects = 0\n",
        "start = time.time()\n",
        "output_list = list()\n",
        "for inputs, labels in test_loader:\n",
        "    inputs = inputs.to(device = device, dtype = torch.float32)\n",
        "    labels = labels.to(device = device)\n",
        "    # zero the parameter gradients\n",
        "    optimizer_ft.zero_grad()\n",
        "    outputs = model_ft(inputs)\n",
        "    output_list+=list((torch.argmax(outputs,axis = 1).cpu().numpy()))\n",
        "    loss = criterion(outputs, labels)\n",
        "    _, preds = torch.max(outputs, 1)\n",
        "    running_loss += loss.item() * inputs.size(0)\n",
        "    running_corrects += torch.sum(preds == labels.data)\n",
        "    epoch_loss = running_loss / len(test_loader.dataset)\n",
        "    epoch_acc = running_corrects.double() / len(test_loader.dataset)\n",
        "print('Test Loss: {:.4f} Acc: {:.4f}, Time : {:.4f}'.format(epoch_loss, epoch_acc, time.time()-start))"
      ]
    },
    {
      "cell_type": "code",
      "execution_count": null,
      "metadata": {
        "id": "Wcz6YIy-ucZC",
        "colab": {
          "base_uri": "https://localhost:8080/"
        },
        "outputId": "c7b0d699-feb8-4a03-ac29-3feffc7c5923"
      },
      "outputs": [
        {
          "output_type": "execute_result",
          "data": {
            "text/plain": [
              "tensor([ 1, 10, 10,  8, 11,  8], device='cuda:0')"
            ]
          },
          "metadata": {},
          "execution_count": 42
        }
      ],
      "source": [
        "labels"
      ]
    },
    {
      "cell_type": "code",
      "source": [
        "torch.argmax(outputs,axis = 1).cpu().numpy()"
      ],
      "metadata": {
        "colab": {
          "base_uri": "https://localhost:8080/"
        },
        "id": "r0rcrVsOMxjn",
        "outputId": "85d56274-e75b-4530-98d6-89ed2e954bf3"
      },
      "execution_count": null,
      "outputs": [
        {
          "output_type": "execute_result",
          "data": {
            "text/plain": [
              "array([10, 10, 10, 10, 10, 10])"
            ]
          },
          "metadata": {},
          "execution_count": 49
        }
      ]
    },
    {
      "cell_type": "code",
      "source": [
        "outputs.shape"
      ],
      "metadata": {
        "colab": {
          "base_uri": "https://localhost:8080/"
        },
        "id": "ePBW5FCwMznB",
        "outputId": "55abde0c-8c7e-42c9-ef39-d62fc2a8f1b9"
      },
      "execution_count": null,
      "outputs": [
        {
          "output_type": "execute_result",
          "data": {
            "text/plain": [
              "torch.Size([6, 15])"
            ]
          },
          "metadata": {},
          "execution_count": 45
        }
      ]
    },
    {
      "cell_type": "code",
      "source": [
        "dummy_df = pd.DataFrame(output_list)"
      ],
      "metadata": {
        "id": "lHIb1HFtM898"
      },
      "execution_count": null,
      "outputs": []
    },
    {
      "cell_type": "code",
      "source": [
        ""
      ],
      "metadata": {
        "id": "HLzkDU_7Dmh-"
      },
      "execution_count": null,
      "outputs": []
    },
    {
      "cell_type": "code",
      "source": [
        "dummy_df.value_counts()"
      ],
      "metadata": {
        "colab": {
          "base_uri": "https://localhost:8080/"
        },
        "id": "eqtL3kRdN9vq",
        "outputId": "d31a18cf-d516-4830-d7f0-2352aaf85bf0"
      },
      "execution_count": null,
      "outputs": [
        {
          "output_type": "execute_result",
          "data": {
            "text/plain": [
              "10    11174\n",
              "dtype: int64"
            ]
          },
          "metadata": {},
          "execution_count": 57
        }
      ]
    },
    {
      "cell_type": "code",
      "source": [
        ""
      ],
      "metadata": {
        "id": "4ETJnGrPOSOL"
      },
      "execution_count": null,
      "outputs": []
    }
  ],
  "metadata": {
    "accelerator": "GPU",
    "colab": {
      "collapsed_sections": [],
      "name": "vgg16_multiclassclassfication.ipynb",
      "provenance": [],
      "include_colab_link": true
    },
    "kernelspec": {
      "display_name": "Python 3",
      "name": "python3"
    },
    "language_info": {
      "name": "python"
    }
  },
  "nbformat": 4,
  "nbformat_minor": 0
}